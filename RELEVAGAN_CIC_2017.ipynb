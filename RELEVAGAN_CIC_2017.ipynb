{
 "cells": [
  {
   "cell_type": "markdown",
   "metadata": {
    "id": "RU553Jumx05t"
   },
   "source": [
    "# RELEVAGAN"
   ]
  },
  {
   "cell_type": "markdown",
   "metadata": {
    "id": "CRWaG6qPWj1T"
   },
   "source": [
    "<a id=\"CGAN\"><h1>Import Header</h1></a>"
   ]
  },
  {
   "cell_type": "code",
   "execution_count": 1,
   "metadata": {
    "colab": {
     "base_uri": "https://localhost:8080/"
    },
    "executionInfo": {
     "elapsed": 4298,
     "status": "ok",
     "timestamp": 1646286467366,
     "user": {
      "displayName": "Rizwan Hamid Randhawa",
      "photoUrl": "https://lh3.googleusercontent.com/a-/AOh14GiCoBmDlAGvdCQjk-uJ2xxx1pJC0fjRsK2FcWLNdaY=s64",
      "userId": "15615777248917371178"
     },
     "user_tz": 0
    },
    "id": "adrd84AgicLV",
    "outputId": "5efbe38a-5301-44fd-d78b-ccb5e21cd524"
   },
   "outputs": [],
   "source": [
    "# from google.colab import drive \n",
    "# drive.mount('/content/drive')\n",
    "# %cd /content/drive/MyDrive/PhD/Development/code/RELEVAGAN"
   ]
  },
  {
   "cell_type": "code",
   "execution_count": 2,
   "metadata": {
    "colab": {
     "base_uri": "https://localhost:8080/"
    },
    "executionInfo": {
     "elapsed": 1391,
     "status": "ok",
     "timestamp": 1646286468746,
     "user": {
      "displayName": "Rizwan Hamid Randhawa",
      "photoUrl": "https://lh3.googleusercontent.com/a-/AOh14GiCoBmDlAGvdCQjk-uJ2xxx1pJC0fjRsK2FcWLNdaY=s64",
      "userId": "15615777248917371178"
     },
     "user_tz": 0
    },
    "id": "mTwKRaEVjJ8c",
    "outputId": "919b98ff-2212-4330-ea6a-1b32ba525777"
   },
   "outputs": [],
   "source": [
    "# !pip install tensorflow\n",
    "# !pip install gym\n",
    "# !pip install keras\n",
    "# !pip install keras-rl2\n",
    "\n",
    "# !pip install keras-rl2\n"
   ]
  },
  {
   "cell_type": "code",
   "execution_count": 3,
   "metadata": {
    "executionInfo": {
     "elapsed": 24,
     "status": "ok",
     "timestamp": 1646286468748,
     "user": {
      "displayName": "Rizwan Hamid Randhawa",
      "photoUrl": "https://lh3.googleusercontent.com/a-/AOh14GiCoBmDlAGvdCQjk-uJ2xxx1pJC0fjRsK2FcWLNdaY=s64",
      "userId": "15615777248917371178"
     },
     "user_tz": 0
    },
    "id": "ljvKEMMhp8lR"
   },
   "outputs": [],
   "source": [
    "# %cd /content/drive/My Drive/PhD/Development/code/RELEVAGAN\n",
    "# !ls"
   ]
  },
  {
   "cell_type": "code",
   "execution_count": 4,
   "metadata": {
    "executionInfo": {
     "elapsed": 4741,
     "status": "ok",
     "timestamp": 1646286473469,
     "user": {
      "displayName": "Rizwan Hamid Randhawa",
      "photoUrl": "https://lh3.googleusercontent.com/a-/AOh14GiCoBmDlAGvdCQjk-uJ2xxx1pJC0fjRsK2FcWLNdaY=s64",
      "userId": "15615777248917371178"
     },
     "user_tz": 0
    },
    "id": "ZlXu5pxhWj1b",
    "scrolled": true
   },
   "outputs": [
    {
     "name": "stderr",
     "output_type": "stream",
     "text": [
      "/home/nu/anaconda3/lib/python3.9/site-packages/xgboost/compat.py:36: FutureWarning: pandas.Int64Index is deprecated and will be removed from pandas in a future version. Use pandas.Index with the appropriate dtype instead.\n",
      "  from pandas import MultiIndex, Int64Index\n",
      "\n"
     ]
    }
   ],
   "source": [
    "import importlib\n",
    "import header\n",
    "\n",
    "importlib.reload(header) # For reloading after making changes\n",
    "from header import *"
   ]
  },
  {
   "cell_type": "markdown",
   "metadata": {
    "collapsed": true,
    "id": "aQkaphklFIYW"
   },
   "source": [
    "<a id=\"CGAN\"><h1>Select GAN and Dataset and Flags</h1></a>"
   ]
  },
  {
   "cell_type": "code",
   "execution_count": 5,
   "metadata": {
    "executionInfo": {
     "elapsed": 34,
     "status": "ok",
     "timestamp": 1646286473470,
     "user": {
      "displayName": "Rizwan Hamid Randhawa",
      "photoUrl": "https://lh3.googleusercontent.com/a-/AOh14GiCoBmDlAGvdCQjk-uJ2xxx1pJC0fjRsK2FcWLNdaY=s64",
      "userId": "15615777248917371178"
     },
     "user_tz": 0
    },
    "id": "kPfnVUMHWj1h"
   },
   "outputs": [],
   "source": [
    "GAN_type = 'RELEVAGAN_CC'\n",
    "# GAN_type = 'ACGAN_CV'\n",
    "# GAN_type = 'EVAGAN_CV'\n",
    "\n",
    "\n",
    "# DATA_SET = 'ISCX-2014'\n",
    "DATA_SET = 'CIC-2017'\n",
    "#DATA_SET = 'CIC-2018'"
   ]
  },
  {
   "cell_type": "markdown",
   "metadata": {
    "id": "4zsYaqGjWj1j"
   },
   "source": [
    "<a id=\"GPU Settings\"><h2>Set Flags</h2></a>"
   ]
  },
  {
   "cell_type": "code",
   "execution_count": 6,
   "metadata": {
    "executionInfo": {
     "elapsed": 31,
     "status": "ok",
     "timestamp": 1646286473471,
     "user": {
      "displayName": "Rizwan Hamid Randhawa",
      "photoUrl": "https://lh3.googleusercontent.com/a-/AOh14GiCoBmDlAGvdCQjk-uJ2xxx1pJC0fjRsK2FcWLNdaY=s64",
      "userId": "15615777248917371178"
     },
     "user_tz": 0
    },
    "id": "S1cf7rM3Wj1k"
   },
   "outputs": [],
   "source": [
    "begin_from_start = 0\n",
    "take_chunk = 0\n",
    "required_epochs = 150\n",
    "\n",
    "DISPLAY_FEATURES = 0\n",
    "EVALUATION_PARAMETER = 'Accuracy'\n",
    "SAVE_ONLY_BOT_DATA = 0\n",
    "USE_KMEANS_FOR_CLASSIFICATION = 1\n",
    "\n",
    "BALANCE_THE_DATASET = 1\n",
    "\n",
    "labels =[]\n",
    "\n",
    "USE_ONLY_TRAIN_SET = 1\n",
    "\n",
    "USE_ALL_CLASSIFIERS = 0\n",
    "\n",
    "ACCU_EVAL_TEST = 0\n",
    "RCL_EVAL_TEST = 0\n",
    "\n",
    "VISUAL_TEST_OVERLAPPING = 1\n",
    "\n",
    "CSV_ONE_BOT = 0\n",
    "\n",
    "VIEW_ALL_BOTS = 0\n",
    "\n",
    "CTU_NERIS = 0\n",
    "\n",
    "SINGLE_WEIGHT_CLASSIFIER_TEST_C2ST = 0\n",
    "SINGLE_WEIGHT_CLASSIFIER_TEST_PROPOSED_METHODOLOGY = 0\n",
    "\n",
    "C2ST_BLACK_BOX_TEST = 0\n",
    "BOTSHOT_BLACK_BOX_TEST = 0\n",
    "\n",
    "C2ST_BLACK_BOX_TEST_AFTER_GAN_TRAINING = 0\n",
    "BOTSHOT_BLACK_BOX_TEST_AFTER_GAN_TRAINING = 0\n",
    "\n",
    "GENERATE_OTHERS_DATA = 1"
   ]
  },
  {
   "cell_type": "markdown",
   "metadata": {
    "id": "gbFYC_WQWj1n"
   },
   "source": [
    "<a id=\"CGAN\"><h1>Set Paths</h1></a>"
   ]
  },
  {
   "cell_type": "code",
   "execution_count": 7,
   "metadata": {
    "executionInfo": {
     "elapsed": 30,
     "status": "ok",
     "timestamp": 1646286473472,
     "user": {
      "displayName": "Rizwan Hamid Randhawa",
      "photoUrl": "https://lh3.googleusercontent.com/a-/AOh14GiCoBmDlAGvdCQjk-uJ2xxx1pJC0fjRsK2FcWLNdaY=s64",
      "userId": "15615777248917371178"
     },
     "user_tz": 0
    },
    "id": "8Al8rt2iWj1p"
   },
   "outputs": [],
   "source": [
    "MAIN_CODE_PATH = os.getcwd()"
   ]
  },
  {
   "cell_type": "code",
   "execution_count": 8,
   "metadata": {
    "executionInfo": {
     "elapsed": 27,
     "status": "ok",
     "timestamp": 1646286473472,
     "user": {
      "displayName": "Rizwan Hamid Randhawa",
      "photoUrl": "https://lh3.googleusercontent.com/a-/AOh14GiCoBmDlAGvdCQjk-uJ2xxx1pJC0fjRsK2FcWLNdaY=s64",
      "userId": "15615777248917371178"
     },
     "user_tz": 0
    },
    "id": "WrizUpKsYxel"
   },
   "outputs": [],
   "source": [
    "DATA_SET_PATH = MAIN_CODE_PATH + '/Dataset/' +  DATA_SET + '/'\n",
    "CACHE_PATH = MAIN_CODE_PATH + '/cache/' + GAN_type + '/'\n",
    "FIGS_PATH = MAIN_CODE_PATH  + '/figs/' + GAN_type + '/'"
   ]
  },
  {
   "cell_type": "code",
   "execution_count": 9,
   "metadata": {
    "colab": {
     "base_uri": "https://localhost:8080/"
    },
    "executionInfo": {
     "elapsed": 27,
     "status": "ok",
     "timestamp": 1646286473473,
     "user": {
      "displayName": "Rizwan Hamid Randhawa",
      "photoUrl": "https://lh3.googleusercontent.com/a-/AOh14GiCoBmDlAGvdCQjk-uJ2xxx1pJC0fjRsK2FcWLNdaY=s64",
      "userId": "15615777248917371178"
     },
     "user_tz": 0
    },
    "id": "yT1YS8U9Wj1t",
    "outputId": "e4079158-267c-4b8c-f6c5-241c2570f61b",
    "scrolled": true
   },
   "outputs": [
    {
     "name": "stdout",
     "output_type": "stream",
     "text": [
      "/home/nu/Insync/rhr407@gmail.com/Google Drive/PhD/Development/code/RELEVAGAN_DQN_Agent/Dataset/CIC-2017/\n",
      "/home/nu/Insync/rhr407@gmail.com/Google Drive/PhD/Development/code/RELEVAGAN_DQN_Agent/cache/RELEVAGAN_CC/\n",
      "/home/nu/Insync/rhr407@gmail.com/Google Drive/PhD/Development/code/RELEVAGAN_DQN_Agent/figs/RELEVAGAN_CC/\n"
     ]
    }
   ],
   "source": [
    "print(DATA_SET_PATH)\n",
    "print(CACHE_PATH)\n",
    "print(FIGS_PATH)"
   ]
  },
  {
   "cell_type": "markdown",
   "metadata": {
    "id": "IwGuWbiSWj1y"
   },
   "source": [
    "<a id=\"GPU Settings\"><h2>Check Available GPUs</h2></a>"
   ]
  },
  {
   "cell_type": "code",
   "execution_count": 10,
   "metadata": {
    "colab": {
     "base_uri": "https://localhost:8080/"
    },
    "executionInfo": {
     "elapsed": 24,
     "status": "ok",
     "timestamp": 1646286473474,
     "user": {
      "displayName": "Rizwan Hamid Randhawa",
      "photoUrl": "https://lh3.googleusercontent.com/a-/AOh14GiCoBmDlAGvdCQjk-uJ2xxx1pJC0fjRsK2FcWLNdaY=s64",
      "userId": "15615777248917371178"
     },
     "user_tz": 0
    },
    "id": "jwQXSblnWj10",
    "outputId": "6dc71bbf-2f29-444d-83ae-66148060c55e"
   },
   "outputs": [
    {
     "name": "stdout",
     "output_type": "stream",
     "text": [
      "Num GPUs Available:  3\n"
     ]
    }
   ],
   "source": [
    "import tensorflow as tf\n",
    "print(\"Num GPUs Available: \", len(tf.config.experimental.list_physical_devices('GPU')))"
   ]
  },
  {
   "cell_type": "markdown",
   "metadata": {
    "id": "ZzSPR7q5Wj11"
   },
   "source": [
    "<a id=\"GPU Settings\"><h2>Import Dataset</h2></a>"
   ]
  },
  {
   "cell_type": "code",
   "execution_count": 11,
   "metadata": {
    "colab": {
     "base_uri": "https://localhost:8080/"
    },
    "executionInfo": {
     "elapsed": 21,
     "status": "ok",
     "timestamp": 1646286473475,
     "user": {
      "displayName": "Rizwan Hamid Randhawa",
      "photoUrl": "https://lh3.googleusercontent.com/a-/AOh14GiCoBmDlAGvdCQjk-uJ2xxx1pJC0fjRsK2FcWLNdaY=s64",
      "userId": "15615777248917371178"
     },
     "user_tz": 0
    },
    "id": "w0MQAWmiWj12",
    "outputId": "82533b26-0223-4159-9f62-b488faf6f8c0"
   },
   "outputs": [
    {
     "name": "stdout",
     "output_type": "stream",
     "text": [
      "/home/nu/Insync/rhr407@gmail.com/Google Drive/PhD/Development/code/RELEVAGAN_DQN_Agent/Dataset/CIC-2017\n",
      " CIC_Friday_bot.csv  'CIC_Friday_bot.csv_(Preprocessed).csv'\r\n"
     ]
    }
   ],
   "source": [
    "%cd $DATA_SET_PATH\n",
    "!ls"
   ]
  },
  {
   "cell_type": "code",
   "execution_count": 12,
   "metadata": {
    "colab": {
     "base_uri": "https://localhost:8080/"
    },
    "executionInfo": {
     "elapsed": 5361,
     "status": "ok",
     "timestamp": 1646286478822,
     "user": {
      "displayName": "Rizwan Hamid Randhawa",
      "photoUrl": "https://lh3.googleusercontent.com/a-/AOh14GiCoBmDlAGvdCQjk-uJ2xxx1pJC0fjRsK2FcWLNdaY=s64",
      "userId": "15615777248917371178"
     },
     "user_tz": 0
    },
    "id": "NIJpUfZdWj15",
    "outputId": "f289caa0-4318-4fca-f55a-3a16e3bd78e8",
    "scrolled": false
   },
   "outputs": [
    {
     "name": "stdout",
     "output_type": "stream",
     "text": [
      "Dataset Imported: CIC-2017\n",
      "Training set: (72330, 68)\n"
     ]
    }
   ],
   "source": [
    "if begin_from_start:        \n",
    "\n",
    "    if DATA_SET == 'ISCX-2014':\n",
    "        training_data = prepare_ISCX_2014_data(PATH = DATA_SET_PATH, INPUT_FILE_NAME = r'ISCX_Botnet-Training.pcap_Flow.csv')       \n",
    "    \n",
    "    elif DATA_SET == 'CIC-2017':\n",
    "        training_data = prepare_cic_2017_data(PATH = DATA_SET_PATH, INPUT_FILE_NAME = r'CIC_Friday_bot.csv')\n",
    "                \n",
    "    elif DATA_SET == 'CIC-2018':\n",
    "        training_data = prepare_cic_2018_data(PATH = DATA_SET_PATH, INPUT_FILE_NAME = r'Friday-02-03-2018_TrafficForML_CICFlowMeter.csv')\n",
    "                \n",
    "    elif DATA_SET == 'UNSW_BotIoT':\n",
    "        training_data = prepare_UNSW_IoT(PATH = DATA_SET_PATH, INPUT_FILE_NAME = r'UNSW_2018_IoT_Botnet_Final_10_best_Training.csv')\n",
    "                \n",
    "    elif DATA_SET == 'Darknet':\n",
    "        training_data = prepare_DARKNET_2020_data(PATH = DATA_SET_PATH, INPUT_FILE_NAME = r'Darknet.csv')\n",
    "        \n",
    "\n",
    "    print('Dataset preprocessed: ' + DATA_SET)\n",
    "    \n",
    "else:\n",
    "\n",
    "    if DATA_SET == 'ISCX-2014':\n",
    "        INPUT_TRAINING_FILE_NAME = r'ISCX_Botnet-Training.pcap_Flow.csv_VIRUT'        \n",
    "        \n",
    "    elif DATA_SET == 'CIC-2017':\n",
    "        INPUT_TRAINING_FILE_NAME = r'CIC_Friday_bot.csv'  \n",
    "        \n",
    "    elif DATA_SET == 'CIC-2018':\n",
    "        INPUT_TRAINING_FILE_NAME = r'Friday-02-03-2018_TrafficForML_CICFlowMeter.csv'       \n",
    "        \n",
    "    elif DATA_SET == 'BoT-IoT':\n",
    "        INPUT_TRAINING_FILE_NAME = r'UNSW_2018_IoT_Botnet_Final_10_best_Training.csv'       \n",
    "        \n",
    "    elif DATA_SET == 'Drebin':\n",
    "        INPUT_TRAINING_FILE_NAME = r'Drebin_API_Dataset.csv'                \n",
    "        \n",
    "    elif DATA_SET == 'Darknet':\n",
    "        INPUT_TRAINING_FILE_NAME = r'Darknet.csv'        \n",
    "\n",
    "    training_data = pd.read_csv (INPUT_TRAINING_FILE_NAME + '_(Preprocessed).csv', low_memory=False)\n",
    "    training_data= training_data.drop(['Unnamed: 0'], axis=1)\n",
    "    \n",
    "    print('Dataset Imported: ' + DATA_SET)\n",
    "    print('Training set: '+ str(training_data.shape)) \n"
   ]
  },
  {
   "cell_type": "code",
   "execution_count": 13,
   "metadata": {
    "colab": {
     "base_uri": "https://localhost:8080/"
    },
    "executionInfo": {
     "elapsed": 1432,
     "status": "ok",
     "timestamp": 1646286480246,
     "user": {
      "displayName": "Rizwan Hamid Randhawa",
      "photoUrl": "https://lh3.googleusercontent.com/a-/AOh14GiCoBmDlAGvdCQjk-uJ2xxx1pJC0fjRsK2FcWLNdaY=s64",
      "userId": "15615777248917371178"
     },
     "user_tz": 0
    },
    "id": "eg83hsWRWj16",
    "outputId": "b66f50cf-7738-4ab5-8c7b-e1dcaa61ddff"
   },
   "outputs": [
    {
     "name": "stdout",
     "output_type": "stream",
     "text": [
      "       FlowDuration  TotalFwdPackets  TotalBackwardPackets  \\\n",
      "count  72330.000000     72330.000000          72330.000000   \n",
      "mean       0.214622         0.000057              0.000050   \n",
      "std        0.353401         0.000263              0.000286   \n",
      "min        0.000000         0.000000              0.000004   \n",
      "25%        0.000002         0.000000              0.000004   \n",
      "50%        0.009819         0.000024              0.000014   \n",
      "75%        0.291335         0.000063              0.000046   \n",
      "max        1.000000         0.028342              0.037421   \n",
      "\n",
      "       TotalLengthofFwdPackets  TotalLengthofBwdPackets  FwdPacketLengthMax  \\\n",
      "count             72330.000000             7.233000e+04        72330.000000   \n",
      "mean                  0.001067             2.277297e-05            0.015710   \n",
      "std                   0.005919             2.499196e-04            0.034347   \n",
      "min                   0.000000             0.000000e+00            0.000000   \n",
      "25%                   0.000005             1.000000e-08            0.000242   \n",
      "50%                   0.000304             5.900000e-07            0.008018   \n",
      "75%                   0.000780             7.190000e-06            0.018372   \n",
      "max                   0.505946             3.094099e-02            1.000000   \n",
      "\n",
      "       FwdPacketLengthMin  FwdPacketLengthMean  FwdPacketLengthStd  \\\n",
      "count        72330.000000         72330.000000        72330.000000   \n",
      "mean             0.000937             0.012135            0.017968   \n",
      "std              0.012197             0.029926            0.033667   \n",
      "min              0.000000             0.000000            0.000000   \n",
      "25%              0.000000             0.001010            0.000000   \n",
      "50%              0.000000             0.006030            0.010447   \n",
      "75%              0.000000             0.013358            0.023225   \n",
      "max              1.000000             1.000000            1.000000   \n",
      "\n",
      "       BwdPacketLengthMax  ...  min_seg_size_forward    ActiveMean  \\\n",
      "count        72330.000000  ...          72330.000000  72330.000000   \n",
      "mean             0.067371  ...              0.446824      0.001757   \n",
      "std              0.085038  ...              0.105533      0.012216   \n",
      "min              0.000000  ...              0.357143      0.000000   \n",
      "25%              0.000460  ...              0.357143      0.000000   \n",
      "50%              0.016114  ...              0.357143      0.000000   \n",
      "75%              0.112032  ...              0.571429      0.000799   \n",
      "max              0.896255  ...              0.821429      1.000000   \n",
      "\n",
      "          ActiveStd     ActiveMax     ActiveMin      IdleMean       IdleStd  \\\n",
      "count  72330.000000  72330.000000  72330.000000  72330.000000  72330.000000   \n",
      "mean       0.002510      0.003974      0.001133      0.051708      0.004552   \n",
      "std        0.014285      0.018291      0.010881      0.118541      0.037376   \n",
      "min        0.000000      0.000000      0.000000      0.000000      0.000000   \n",
      "25%        0.000000      0.000000      0.000000      0.000000      0.000000   \n",
      "50%        0.000000      0.000000      0.000000      0.000000      0.000000   \n",
      "75%        0.000000      0.001679      0.000329      0.081680      0.000000   \n",
      "max        1.000000      1.000000      1.000000      1.000000      0.934726   \n",
      "\n",
      "            IdleMax       IdleMin         Label  \n",
      "count  72330.000000  72330.000000  72330.000000  \n",
      "mean       0.053826      0.048643      0.972957  \n",
      "std        0.123402      0.116318      0.162209  \n",
      "min        0.000000      0.000000      0.000000  \n",
      "25%        0.000000      0.000000      1.000000  \n",
      "50%        0.000000      0.000000      1.000000  \n",
      "75%        0.083333      0.066270      1.000000  \n",
      "max        1.000000      1.000000      1.000000  \n",
      "\n",
      "[8 rows x 68 columns]\n"
     ]
    }
   ],
   "source": [
    "training_data = training_data.replace([np.inf, -np.inf], np.nan).dropna(how=\"any\").reset_index(drop=True)\n",
    "print(training_data.describe())"
   ]
  },
  {
   "cell_type": "markdown",
   "metadata": {
    "id": "h5phnoDzWj17"
   },
   "source": [
    "<a id=\"GPU Settings\"><h2>Display Features</h2></a>"
   ]
  },
  {
   "cell_type": "code",
   "execution_count": 14,
   "metadata": {
    "executionInfo": {
     "elapsed": 39,
     "status": "ok",
     "timestamp": 1646286480247,
     "user": {
      "displayName": "Rizwan Hamid Randhawa",
      "photoUrl": "https://lh3.googleusercontent.com/a-/AOh14GiCoBmDlAGvdCQjk-uJ2xxx1pJC0fjRsK2FcWLNdaY=s64",
      "userId": "15615777248917371178"
     },
     "user_tz": 0
    },
    "id": "aePYFbaoWj17",
    "scrolled": false
   },
   "outputs": [],
   "source": [
    "if DISPLAY_FEATURES: \n",
    "    unified_df = training_data.copy()\n",
    "    X_cols = unified_df.columns[:-1]\n",
    "    y_cols = unified_df.columns[-1]\n",
    "\n",
    "\n",
    "\n",
    "    axarr = [[]]*len(X_cols)\n",
    "    columns = 4\n",
    "    rows = int( np.ceil( len(X_cols) / columns ) )\n",
    "    f, fig = plt.subplots( figsize=(columns*2.5, rows*2) )\n",
    "\n",
    "    f.suptitle('Data Distributions by Feature and Label', size=16)\n",
    "\n",
    "    for i, col in enumerate(X_cols[:]):\n",
    "        axarr[i] = plt.subplot2grid( (int(rows), int(columns)), (int(i//columns), int(i%columns)) )\n",
    "\n",
    "\n",
    "        axarr[i].hist( unified_df.loc[ unified_df.Label == 0, col ] , label=['Normal'], color=('#009933'), alpha=0.5,\n",
    "                              bins=np.linspace( np.percentile(unified_df[col],0), np.percentile(unified_df[col],100),50 ),\n",
    "                              density=True )\n",
    "\n",
    "        axarr[i].hist( unified_df.loc[ unified_df.Label == 1, col ] , label=['Real Bot'], color=['#FF0000'], alpha=0.5,\n",
    "                              bins=np.linspace( np.percentile(unified_df[col],0), np.percentile(unified_df[col],100),50 ),\n",
    "                              density=True )\n",
    "\n",
    "        axarr[i].set_xlabel(col, size=12)\n",
    "    #     axarr[i].set_ylim([0,1])\n",
    "        axarr[i].tick_params(axis='both', labelsize=10)\n",
    "        if i == 0: \n",
    "            legend = axarr[i].legend()\n",
    "            legend.get_frame().set_facecolor('white')\n",
    "        if i%4 != 0 : \n",
    "            axarr[i].tick_params(axis='y', left=True, labelleft=True)\n",
    "        else:\n",
    "            axarr[i].set_ylabel('Fraction',size=12)\n",
    "\n",
    "    plt.tight_layout(rect=[0,0,1,0.95]) # xmin, ymin, xmax, ymax\n",
    "    # plt.savefig('plots/Engineered_Data_Distributions.png')\n",
    "\n",
    "    plt.show()\n",
    "    \n",
    "# else: \n",
    "#     print('Pair Plotting..')\n",
    "# #     sns.pairplot(training_data, hue=\"Label\")\n",
    "    \n",
    "#     sns.pairplot(training_data, vars=['Flow Duration', 'Total Fwd Packet', 'Total Bwd packets',\n",
    "#        'Total Length of Fwd Packet', 'Total Length of Bwd Packet'], hue=\"Label\")\n",
    "    \n",
    "#     sns.pairplot(penguins, hue=\"species\", markers=[\"o\", \"s\", \"D\"])"
   ]
  },
  {
   "cell_type": "markdown",
   "metadata": {
    "id": "pD-Hq093Wj18"
   },
   "source": [
    "<a id=\"GPU Settings\"><h2>Select Botnet</h2></a>"
   ]
  },
  {
   "cell_type": "code",
   "execution_count": 15,
   "metadata": {
    "colab": {
     "base_uri": "https://localhost:8080/"
    },
    "executionInfo": {
     "elapsed": 36,
     "status": "ok",
     "timestamp": 1646286480248,
     "user": {
      "displayName": "Rizwan Hamid Randhawa",
      "photoUrl": "https://lh3.googleusercontent.com/a-/AOh14GiCoBmDlAGvdCQjk-uJ2xxx1pJC0fjRsK2FcWLNdaY=s64",
      "userId": "15615777248917371178"
     },
     "user_tz": 0
    },
    "id": "jMdckAGdWj19",
    "outputId": "46fe73e9-a31e-4ad2-ad93-1365278c0e6f",
    "scrolled": true
   },
   "outputs": [
    {
     "name": "stdout",
     "output_type": "stream",
     "text": [
      "Normal before chunk: (70374, 68)\n",
      "Real Bots before chunk: (1956, 68)\n",
      "Normal: (70374, 68)\n",
      "Real Bots: (1956, 68)\n"
     ]
    }
   ],
   "source": [
    "normal = training_data.loc[ training_data['Label']==1 ].copy()\n",
    "bots = training_data.loc[ training_data['Label']==0 ].copy()\n",
    "\n",
    "print('Normal before chunk: ' + str(normal.shape))    \n",
    "print('Real Bots before chunk: ' + str(bots.shape)) \n",
    "\n",
    "if take_chunk:\n",
    "    bots = bots[0:512]\n",
    "    \n",
    "print('Normal: ' + str(normal.shape))    \n",
    "print('Real Bots: ' + str(bots.shape)) "
   ]
  },
  {
   "cell_type": "code",
   "execution_count": 16,
   "metadata": {
    "executionInfo": {
     "elapsed": 23,
     "status": "ok",
     "timestamp": 1646286480249,
     "user": {
      "displayName": "Rizwan Hamid Randhawa",
      "photoUrl": "https://lh3.googleusercontent.com/a-/AOh14GiCoBmDlAGvdCQjk-uJ2xxx1pJC0fjRsK2FcWLNdaY=s64",
      "userId": "15615777248917371178"
     },
     "user_tz": 0
    },
    "id": "WEv9Tz5AWj1-"
   },
   "outputs": [],
   "source": [
    "Train = training_data.copy()"
   ]
  },
  {
   "cell_type": "code",
   "execution_count": 17,
   "metadata": {
    "colab": {
     "base_uri": "https://localhost:8080/"
    },
    "executionInfo": {
     "elapsed": 22,
     "status": "ok",
     "timestamp": 1646286480250,
     "user": {
      "displayName": "Rizwan Hamid Randhawa",
      "photoUrl": "https://lh3.googleusercontent.com/a-/AOh14GiCoBmDlAGvdCQjk-uJ2xxx1pJC0fjRsK2FcWLNdaY=s64",
      "userId": "15615777248917371178"
     },
     "user_tz": 0
    },
    "id": "8TrvNDY3Wj1-",
    "outputId": "fe3d432c-995f-469a-e6e6-b26bacf6ccb7",
    "scrolled": false
   },
   "outputs": [
    {
     "name": "stdout",
     "output_type": "stream",
     "text": [
      "0    1956\n",
      "Name: count, dtype: int64\n"
     ]
    }
   ],
   "source": [
    "bots_count =  pd.DataFrame( [ [np.sum(bots['Label']==i)] for i in np.unique(bots['Label']) ], columns=['count'], index=np.unique(bots['Label']) )\n",
    "\n",
    "label_cols = [ i for i in bots.columns if 'Label' in i ]\n",
    "data_cols = [ i for i in bots.columns if i not in label_cols ]\n",
    "\n",
    "train_no_label = bots[ data_cols ].reset_index(drop=True)\n",
    "\n",
    "print(bots_count['count'])"
   ]
  },
  {
   "cell_type": "code",
   "execution_count": 18,
   "metadata": {
    "executionInfo": {
     "elapsed": 766,
     "status": "ok",
     "timestamp": 1646286481004,
     "user": {
      "displayName": "Rizwan Hamid Randhawa",
      "photoUrl": "https://lh3.googleusercontent.com/a-/AOh14GiCoBmDlAGvdCQjk-uJ2xxx1pJC0fjRsK2FcWLNdaY=s64",
      "userId": "15615777248917371178"
     },
     "user_tz": 0
    },
    "id": "uKyFTGYfWj1_"
   },
   "outputs": [],
   "source": [
    "train_data = bots"
   ]
  },
  {
   "cell_type": "markdown",
   "metadata": {
    "id": "K_5UjRLxWj2B"
   },
   "source": [
    "<a id=\"Classification\"><h1>Classification</h1></a>"
   ]
  },
  {
   "cell_type": "code",
   "execution_count": null,
   "metadata": {},
   "outputs": [],
   "source": []
  },
  {
   "cell_type": "code",
   "execution_count": 19,
   "metadata": {
    "colab": {
     "base_uri": "https://localhost:8080/",
     "height": 221
    },
    "executionInfo": {
     "elapsed": 60,
     "status": "ok",
     "timestamp": 1646286481006,
     "user": {
      "displayName": "Rizwan Hamid Randhawa",
      "photoUrl": "https://lh3.googleusercontent.com/a-/AOh14GiCoBmDlAGvdCQjk-uJ2xxx1pJC0fjRsK2FcWLNdaY=s64",
      "userId": "15615777248917371178"
     },
     "user_tz": 0
    },
    "id": "hPMsTK_pWj2B",
    "outputId": "69298b35-df4a-4b68-9100-369f528e2fdb",
    "scrolled": false
   },
   "outputs": [
    {
     "name": "stdout",
     "output_type": "stream",
     "text": [
      "1956\n",
      "CPU times: user 1.72 s, sys: 122 ms, total: 1.84 s\n",
      "Wall time: 260 ms\n"
     ]
    },
    {
     "data": {
      "image/png": "[encoded data removed]",
      "text/plain": [
       "<Figure size 216x144 with 1 Axes>"
      ]
     },
     "metadata": {},
     "output_type": "display_data"
    }
   ],
   "source": [
    "%%time \n",
    "# if GAN_type == 'CGAN' or GAN_type == 'WCGAN':\n",
    "if USE_KMEANS_FOR_CLASSIFICATION:\n",
    "    algorithms = [ \n",
    "    #     [ 'KMeans', cluster.KMeans, (), {'random_state':0} ],\n",
    "        [ 'KMeans', cluster.KMeans, (), {'n_clusters':1, 'random_state':0} ],\n",
    "    #     [ 'KMeans 3', cluster.KMeans, (), {'n_clusters':3, 'random_state':0} ],\n",
    "    #     [ 'Agglomerative', cluster.AgglomerativeClustering, (), {} ],\n",
    "    #     [ 'Agglomerative', cluster.AgglomerativeClustering, (), {'linkage': 'ward', 'n_clusters': 3} ],\n",
    "    #     [ 'Agg. Ave 3', cluster.AgglomerativeClustering, (), {'linkage': 'average', 'n_clusters': 3} ],\n",
    "    #     [ 'Agg. Complete 3', cluster.AgglomerativeClustering, (), {'linkage': 'complete', 'n_clusters': 3} ],\n",
    "    #     [ 'DBSCAN', cluster.DBSCAN, (), {'eps':0.025} ],\n",
    "    #     [ 'HDBSCAN', hdbscan.HDBSCAN, (), {} ],\n",
    "    #     [ 'HDBSCAN', hdbscan.HDBSCAN, (), {'min_cluster_size':10, 'min_samples':1, } ],\n",
    "    #     [ 'HDBSCAN 2 10', hdbscan.HDBSCAN, (), {'min_cluster_size':2, 'min_samples':10, } ],\n",
    "    #     [ 'HDBSCAN 10 10 ', hdbscan.HDBSCAN, (), {'min_cluster_size':10, 'min_samples':10, } ],\n",
    "    ]\n",
    "\n",
    "    rows = len(algorithms)\n",
    "    columns = 1\n",
    "    fig, ax = plt.subplots(3, 2, figsize=(3, 2),\n",
    "                            constrained_layout=True)\n",
    "\n",
    "    for i, [name, algorithm, args, kwds] in enumerate(algorithms):\n",
    "\n",
    "        labels = algorithm(*args, **kwds).fit_predict(train_no_label)\n",
    "        print(len(labels))\n",
    "        colors = np.clip(labels,-1,9)\n",
    "        colors = [ 'C'+str(i) if i>-1 else 'white' for i in colors ]\n",
    "\n",
    "        plt.subplot(rows,columns,i*columns+1)\n",
    "        plt.scatter(train_no_label[data_cols[0]], train_no_label[data_cols[1]], c=colors)\n",
    "        plt.xlabel(data_cols[0]), plt.ylabel(data_cols[1])\n",
    "        plt.title(name)\n",
    "            \n",
    "\n",
    "#     else:\n",
    "#         labels = train_bots_only['Label'].values.tolist() \n",
    "#         sns.set(style=\"ticks\", color_codes=True) # Remove background and grid\n",
    "\n",
    "#     #     g = sns.scatterplot(data_cols[0],data_cols[1], data=train, hue=labels)\n",
    "\n",
    "#     #     plt.show() \n",
    "\n",
    "\n",
    "#         plt.figure()\n",
    "#         ax = sns.countplot(y=\"Label\", data=train_bots_only) # for Seaborn version 0.7 and more\n",
    "#         for p in ax.patches:\n",
    "#             ax.text(p.get_y() + p.get_width() + 2700 , p.get_y()+p.get_height()-0.1, p.get_width(), ha=\"center\") \n",
    "\n",
    "#         ax.set_ylabel('Botnets')\n",
    "\n",
    "#         plt.savefig('Botnet-Trainset.pdf', dpi=600)\n",
    "#         plt.show()\n",
    "\n",
    "\n",
    "\n",
    "\n",
    "#         plt.figure(figsize=(6, 6))\n",
    "#         ax = sns.countplot(y=\"Label\", data=test_bots_only) # for Seaborn version 0.7 and more\n",
    "#         for p in ax.patches:\n",
    "#             ax.text(p.get_y() + p.get_width() + 6000 , p.get_y()+p.get_height()-0.1, p.get_width(), ha=\"center\") \n",
    "\n",
    "#         ax.set_ylabel('Botnets')\n",
    "\n",
    "#         plt.savefig('Botnet-Testset.pdf', dpi=600)\n",
    "#         plt.show()\n",
    "\n",
    "#     #     g = sns.catplot(x=\"class\", hue=\"who\", col=\"survived\", data=titanic, kind=\"count\", height=4, aspect=.7);\n",
    "\n",
    "\n",
    "#     #     sns.pairplot(data=train, vars=[data_cols[0], data_cols[1]], hue='Label')\n",
    "\n",
    "\n",
    "#     # plt.grid(False)\n",
    "#     # plt.show()\n",
    "#     print(train_no_label.describe())\n",
    "    \n",
    "    botnet_w_classes = train_no_label.copy()\n",
    "    botnet_w_classes['Label'] = labels\n",
    "\n",
    "#     print(botnet_w_classes.describe())\n",
    "    train_data = botnet_w_classes\n",
    "    \n",
    "# else:\n",
    "#     train_data = train_no_label\n"
   ]
  },
  {
   "cell_type": "code",
   "execution_count": 20,
   "metadata": {
    "colab": {
     "base_uri": "https://localhost:8080/"
    },
    "executionInfo": {
     "elapsed": 54,
     "status": "ok",
     "timestamp": 1646286481008,
     "user": {
      "displayName": "Rizwan Hamid Randhawa",
      "photoUrl": "https://lh3.googleusercontent.com/a-/AOh14GiCoBmDlAGvdCQjk-uJ2xxx1pJC0fjRsK2FcWLNdaY=s64",
      "userId": "15615777248917371178"
     },
     "user_tz": 0
    },
    "id": "wmB4aCmMWj2D",
    "outputId": "bb6c85f1-3ae0-4e88-99bd-0b6f26f1f70d",
    "scrolled": true
   },
   "outputs": [
    {
     "data": {
      "text/plain": [
       "0       0\n",
       "1       0\n",
       "2       0\n",
       "3       0\n",
       "4       0\n",
       "       ..\n",
       "1951    0\n",
       "1952    0\n",
       "1953    0\n",
       "1954    0\n",
       "1955    0\n",
       "Name: Label, Length: 1956, dtype: int32"
      ]
     },
     "execution_count": 20,
     "metadata": {},
     "output_type": "execute_result"
    }
   ],
   "source": [
    "train_data['Label']"
   ]
  },
  {
   "cell_type": "markdown",
   "metadata": {
    "id": "q168UjfTWj2E"
   },
   "source": [
    "<a id=\"GPU Settings\"><h2>GAN Training</h2></a>"
   ]
  },
  {
   "cell_type": "code",
   "execution_count": null,
   "metadata": {},
   "outputs": [],
   "source": []
  },
  {
   "cell_type": "code",
   "execution_count": null,
   "metadata": {
    "scrolled": false
   },
   "outputs": [
    {
     "name": "stdout",
     "output_type": "stream",
     "text": [
      "Result: (2048, 68)\n",
      "log_interval : 8\n",
      "Total Batch Iterations: 1200\n",
      "['FlowDuration', 'TotalFwdPackets', 'TotalBackwardPackets', 'TotalLengthofFwdPackets', 'TotalLengthofBwdPackets', 'FwdPacketLengthMax', 'FwdPacketLengthMin', 'FwdPacketLengthMean', 'FwdPacketLengthStd', 'BwdPacketLengthMax', 'BwdPacketLengthMin', 'BwdPacketLengthMean', 'BwdPacketLengthStd', 'FlowBytes/s', 'FlowPackets/s', 'FlowIATMean', 'FlowIATStd', 'FlowIATMax', 'FlowIATMin', 'FwdIATTotal', 'FwdIATMean', 'FwdIATStd', 'FwdIATMax', 'FwdIATMin', 'BwdIATTotal', 'BwdIATMean', 'BwdIATStd', 'BwdIATMax', 'BwdIATMin', 'FwdPSHFlags', 'FwdHeaderLength', 'BwdHeaderLength', 'FwdPackets/s', 'BwdPackets/s', 'MinPacketLength', 'MaxPacketLength', 'PacketLengthMean', 'PacketLengthStd', 'PacketLengthVariance', 'FINFlagCount', 'SYNFlagCount', 'RSTFlagCount', 'PSHFlagCount', 'ACKFlagCount', 'URGFlagCount', 'ECEFlagCount', 'Down/UpRatio', 'AveragePacketSize', 'AvgFwdSegmentSize', 'AvgBwdSegmentSize', 'FwdHeaderLength.1', 'SubflowFwdPackets', 'SubflowFwdBytes', 'SubflowBwdPackets', 'SubflowBwdBytes', 'Init_Win_bytes_forward', 'Init_Win_bytes_backward', 'act_data_pkt_fwd', 'min_seg_size_forward', 'ActiveMean', 'ActiveStd', 'ActiveMax', 'ActiveMin', 'IdleMean', 'IdleStd', 'IdleMax', 'IdleMin']\n",
      "CIC-2017_2022-05-10 10:55:21.545351\n",
      "WARNING:tensorflow:From /home/nu/anaconda3/lib/python3.9/site-packages/keras/layers/normalization/batch_normalization.py:532: _colocate_with (from tensorflow.python.framework.ops) is deprecated and will be removed in a future version.\n",
      "Instructions for updating:\n",
      "Colocations handled automatically by placer.\n",
      "['loss']\n",
      "Normal: (70374, 68)\n",
      "Bots: (1956, 68)\n",
      "(1369, 68) (49261, 68)\n",
      "======================================================\n",
      "Starting GAN Training..\n",
      "======================================================\n",
      "['loss']\n"
     ]
    },
    {
     "name": "stderr",
     "output_type": "stream",
     "text": [
      "/home/nu/anaconda3/lib/python3.9/site-packages/keras/engine/training_v1.py:2079: UserWarning: `Model.state_updates` will be removed in a future version. This property should not be used in TensorFlow 2.0, as `updates` are applied automatically.\n",
      "  updates=self.state_updates,\n",
      "2022-05-10 10:55:23.893266: I tensorflow/core/platform/cpu_feature_guard.cc:151] This TensorFlow binary is optimized with oneAPI Deep Neural Network Library (oneDNN) to use the following CPU instructions in performance-critical operations:  AVX2 FMA\n",
      "To enable them in other operations, rebuild TensorFlow with the appropriate compiler flags.\n",
      "2022-05-10 10:55:25.624130: I tensorflow/core/common_runtime/gpu/gpu_device.cc:1525] Created device /job:localhost/replica:0/task:0/device:GPU:0 with 6003 MB memory:  -> device: 0, name: NVIDIA GeForce GTX 1070 Ti, pci bus id: 0000:0a:00.0, compute capability: 6.1\n",
      "2022-05-10 10:55:25.625171: I tensorflow/core/common_runtime/gpu/gpu_device.cc:1525] Created device /job:localhost/replica:0/task:0/device:GPU:1 with 6491 MB memory:  -> device: 1, name: NVIDIA GeForce GTX 1070 Ti, pci bus id: 0000:0b:00.0, compute capability: 6.1\n",
      "2022-05-10 10:55:25.625933: I tensorflow/core/common_runtime/gpu/gpu_device.cc:1525] Created device /job:localhost/replica:0/task:0/device:GPU:2 with 5768 MB memory:  -> device: 2, name: NVIDIA GeForce GTX 1070 Ti, pci bus id: 0000:42:00.0, compute capability: 6.1\n"
     ]
    },
    {
     "name": "stdout",
     "output_type": "stream",
     "text": [
      "WARNING:tensorflow:Discrepancy between trainable weights and collected trainable weights, did you set `model.trainable` without calling `model.compile` after ?\n",
      "WARNING:tensorflow:Discrepancy between trainable weights and collected trainable weights, did you set `model.trainable` without calling `model.compile` after ?\n"
     ]
    },
    {
     "name": "stderr",
     "output_type": "stream",
     "text": [
      "/home/nu/anaconda3/lib/python3.9/site-packages/keras/optimizer_v2/adam.py:105: UserWarning: The `lr` argument is deprecated, use `learning_rate` instead.\n",
      "  super(Adam, self).__init__(name, **kwargs)\n"
     ]
    },
    {
     "name": "stdout",
     "output_type": "stream",
     "text": [
      "Training for 256 steps ...\n"
     ]
    },
    {
     "name": "stderr",
     "output_type": "stream",
     "text": [
      "/home/nu/anaconda3/lib/python3.9/site-packages/keras/engine/training_v1.py:2079: UserWarning: `Model.state_updates` will be removed in a future version. This property should not be used in TensorFlow 2.0, as `updates` are applied automatically.\n",
      "  updates=self.state_updates,\n",
      "/home/nu/anaconda3/lib/python3.9/site-packages/keras/engine/training_v1.py:2079: UserWarning: `Model.state_updates` will be removed in a future version. This property should not be used in TensorFlow 2.0, as `updates` are applied automatically.\n",
      "  updates=self.state_updates,\n",
      "/home/nu/anaconda3/lib/python3.9/site-packages/keras/engine/training_v1.py:2079: UserWarning: `Model.state_updates` will be removed in a future version. This property should not be used in TensorFlow 2.0, as `updates` are applied automatically.\n",
      "  updates=self.state_updates,\n"
     ]
    },
    {
     "name": "stdout",
     "output_type": "stream",
     "text": [
      " 256/256: episode: 1, duration: 8.681s, episode steps: 256, steps per second:  29, episode reward: 255.000, mean reward:  0.996 [ 0.000,  1.000], mean action: 5.105 [0.000, 11.000],  loss: 0.294885, mae: 0.757516, mean_q: 1.523243\n",
      "done, took 8.683 seconds\n",
      "WARNING:tensorflow:Discrepancy between trainable weights and collected trainable weights, did you set `model.trainable` without calling `model.compile` after ?\n",
      "  g_loss: 1.404856\n",
      "Evasions: 255\n",
      "Time left = 54.6 minutes\n",
      "Total Time Taken: 0.4 minutes\n",
      "epoch_number: 1 completed\n",
      "======================================================\n",
      "Training for 256 steps ...\n",
      " 256/256: episode: 1, duration: 3.768s, episode steps: 256, steps per second:  68, episode reward: 254.000, mean reward:  0.992 [ 0.000,  1.000], mean action: 5.219 [0.000, 11.000],  loss: 0.135452, mae: 0.852890, mean_q: 1.606744\n",
      "done, took 3.770 seconds\n",
      "Training for 256 steps ...\n",
      " 256/256: episode: 1, duration: 3.815s, episode steps: 256, steps per second:  67, episode reward: 255.000, mean reward:  0.996 [ 0.000,  1.000], mean action: 5.168 [0.000, 11.000],  loss: 0.086105, mae: 0.877927, mean_q: 1.538393\n",
      "done, took 3.816 seconds\n",
      "Training for 256 steps ...\n",
      " 256/256: episode: 1, duration: 3.708s, episode steps: 256, steps per second:  69, episode reward: 253.000, mean reward:  0.988 [ 0.000,  1.000], mean action: 5.098 [0.000, 11.000],  loss: 0.074219, mae: 0.868187, mean_q: 1.442646\n",
      "done, took 3.709 seconds\n",
      "Training for 256 steps ...\n",
      " 256/256: episode: 1, duration: 3.859s, episode steps: 256, steps per second:  66, episode reward: 253.000, mean reward:  0.988 [ 0.000,  1.000], mean action: 4.945 [0.000, 11.000],  loss: 0.059107, mae: 0.859898, mean_q: 1.375538\n",
      "done, took 3.861 seconds\n",
      "Training for 256 steps ...\n",
      " 256/256: episode: 1, duration: 3.789s, episode steps: 256, steps per second:  68, episode reward: 254.000, mean reward:  0.992 [ 0.000,  1.000], mean action: 4.922 [0.000, 11.000],  loss: 0.054570, mae: 0.866186, mean_q: 1.354709\n",
      "done, took 3.791 seconds\n",
      "Training for 256 steps ...\n",
      " 256/256: episode: 1, duration: 3.724s, episode steps: 256, steps per second:  69, episode reward: 250.000, mean reward:  0.977 [ 0.000,  1.000], mean action: 4.891 [0.000, 11.000],  loss: 0.051334, mae: 0.864287, mean_q: 1.327632\n",
      "done, took 3.725 seconds\n",
      "  g_loss: 1.1841213\n",
      "Evasions: 1519\n",
      "Time left = 57.0 minutes\n",
      "Total Time Taken: 0.8 minutes\n",
      "epoch_number: 2 completed\n",
      "======================================================\n",
      "Training for 256 steps ...\n",
      " 256/256: episode: 1, duration: 3.775s, episode steps: 256, steps per second:  68, episode reward: 250.000, mean reward:  0.977 [ 0.000,  1.000], mean action: 4.910 [0.000, 11.000],  loss: 0.043109, mae: 0.870615, mean_q: 1.314557\n",
      "done, took 3.777 seconds\n",
      "Training for 256 steps ...\n",
      " 256/256: episode: 1, duration: 3.725s, episode steps: 256, steps per second:  69, episode reward: 253.000, mean reward:  0.988 [ 0.000,  1.000], mean action: 4.910 [0.000, 11.000],  loss: 0.038899, mae: 0.864068, mean_q: 1.287530\n",
      "done, took 3.726 seconds\n",
      "Training for 256 steps ...\n",
      " 256/256: episode: 1, duration: 3.718s, episode steps: 256, steps per second:  69, episode reward: 255.000, mean reward:  0.996 [ 0.000,  1.000], mean action: 4.930 [0.000, 11.000],  loss: 0.038146, mae: 0.882966, mean_q: 1.293836\n",
      "done, took 3.719 seconds\n",
      "Training for 256 steps ...\n",
      " 256/256: episode: 1, duration: 3.781s, episode steps: 256, steps per second:  68, episode reward: 255.000, mean reward:  0.996 [ 0.000,  1.000], mean action: 4.891 [0.000, 11.000],  loss: 0.036960, mae: 0.880860, mean_q: 1.278364\n",
      "done, took 3.782 seconds\n",
      "Training for 256 steps ...\n",
      " 256/256: episode: 1, duration: 3.805s, episode steps: 256, steps per second:  67, episode reward: 255.000, mean reward:  0.996 [ 0.000,  1.000], mean action: 4.910 [0.000, 11.000],  loss: 0.034559, mae: 0.892393, mean_q: 1.283259\n",
      "done, took 3.807 seconds\n",
      "Training for 256 steps ...\n",
      " 256/256: episode: 1, duration: 3.744s, episode steps: 256, steps per second:  68, episode reward: 255.000, mean reward:  0.996 [ 0.000,  1.000], mean action: 4.922 [0.000, 11.000],  loss: 0.031642, mae: 0.893468, mean_q: 1.266811\n",
      "done, took 3.745 seconds\n",
      "  g_loss: 0.90167904\n",
      "Evasions: 1523\n",
      "Time left = 57.6 minutes\n",
      "Total Time Taken: 1.2 minutes\n",
      "epoch_number: 3 completed\n",
      "======================================================\n",
      "Training for 256 steps ...\n",
      " 256/256: episode: 1, duration: 3.940s, episode steps: 256, steps per second:  65, episode reward: 254.000, mean reward:  0.992 [ 0.000,  1.000], mean action: 4.961 [0.000, 11.000],  loss: 0.027766, mae: 0.894162, mean_q: 1.250536\n",
      "done, took 3.942 seconds\n",
      "Training for 256 steps ...\n",
      " 256/256: episode: 1, duration: 4.005s, episode steps: 256, steps per second:  64, episode reward: 255.000, mean reward:  0.996 [ 0.000,  1.000], mean action: 4.938 [0.000, 11.000],  loss: 0.028462, mae: 0.892792, mean_q: 1.239001\n",
      "done, took 4.007 seconds\n",
      "Training for 256 steps ...\n",
      " 256/256: episode: 1, duration: 3.767s, episode steps: 256, steps per second:  68, episode reward: 255.000, mean reward:  0.996 [ 0.000,  1.000], mean action: 4.949 [0.000, 11.000],  loss: 0.026160, mae: 0.901995, mean_q: 1.242309\n",
      "done, took 3.768 seconds\n",
      "Training for 256 steps ...\n",
      " 256/256: episode: 1, duration: 3.774s, episode steps: 256, steps per second:  68, episode reward: 254.000, mean reward:  0.992 [ 0.000,  1.000], mean action: 4.969 [0.000, 11.000],  loss: 0.023424, mae: 0.918630, mean_q: 1.251137\n",
      "done, took 3.775 seconds\n",
      "Training for 256 steps ...\n",
      " 256/256: episode: 1, duration: 3.711s, episode steps: 256, steps per second:  69, episode reward: 255.000, mean reward:  0.996 [ 0.000,  1.000], mean action: 4.965 [0.000, 11.000],  loss: 0.024434, mae: 0.913726, mean_q: 1.235385\n",
      "done, took 3.712 seconds\n",
      "Training for 256 steps ...\n",
      " 256/256: episode: 1, duration: 3.793s, episode steps: 256, steps per second:  67, episode reward: 255.000, mean reward:  0.996 [ 0.000,  1.000], mean action: 4.965 [0.000, 11.000],  loss: 0.021501, mae: 0.888638, mean_q: 1.194497\n",
      "done, took 3.795 seconds\n",
      "  g_loss: 0.63130975\n",
      "Evasions: 1528\n",
      "Time left = 57.6 minutes\n",
      "Total Time Taken: 1.6 minutes\n",
      "epoch_number: 4 completed\n",
      "======================================================\n",
      "Training for 256 steps ...\n",
      " 256/256: episode: 1, duration: 3.801s, episode steps: 256, steps per second:  67, episode reward: 250.000, mean reward:  0.977 [ 0.000,  1.000], mean action: 4.957 [0.000, 11.000],  loss: 0.022574, mae: 0.903031, mean_q: 1.200738\n",
      "done, took 3.803 seconds\n",
      "Training for 256 steps ...\n",
      " 256/256: episode: 1, duration: 3.688s, episode steps: 256, steps per second:  69, episode reward: 252.000, mean reward:  0.984 [ 0.000,  1.000], mean action: 4.973 [0.000, 11.000],  loss: 0.020041, mae: 0.917434, mean_q: 1.208143\n",
      "done, took 3.690 seconds\n",
      "Training for 256 steps ...\n",
      " 256/256: episode: 1, duration: 3.625s, episode steps: 256, steps per second:  71, episode reward: 252.000, mean reward:  0.984 [ 0.000,  1.000], mean action: 4.996 [0.000, 11.000],  loss: 0.020195, mae: 0.915658, mean_q: 1.195699\n",
      "done, took 3.627 seconds\n",
      "Training for 256 steps ...\n",
      " 256/256: episode: 1, duration: 3.864s, episode steps: 256, steps per second:  66, episode reward: 252.000, mean reward:  0.984 [ 0.000,  1.000], mean action: 4.988 [0.000, 11.000],  loss: 0.018610, mae: 0.918003, mean_q: 1.196684\n",
      "done, took 3.866 seconds\n",
      "Training for 256 steps ...\n",
      " 256/256: episode: 1, duration: 3.774s, episode steps: 256, steps per second:  68, episode reward: 252.000, mean reward:  0.984 [ 0.000,  1.000], mean action: 4.988 [0.000, 11.000],  loss: 0.017633, mae: 0.921692, mean_q: 1.190982\n",
      "done, took 3.776 seconds\n",
      "Training for 256 steps ...\n",
      " 256/256: episode: 1, duration: 3.659s, episode steps: 256, steps per second:  70, episode reward: 248.000, mean reward:  0.969 [ 0.000,  1.000], mean action: 4.953 [0.000, 11.000],  loss: 0.018269, mae: 0.921277, mean_q: 1.186825\n",
      "done, took 3.661 seconds\n",
      "  g_loss: 0.61144567\n",
      "Evasions: 1506\n",
      "Time left = 57.6 minutes\n",
      "Total Time Taken: 2.0 minutes\n",
      "epoch_number: 5 completed\n",
      "======================================================\n",
      "Training for 256 steps ...\n",
      " 256/256: episode: 1, duration: 4.117s, episode steps: 256, steps per second:  62, episode reward: 129.000, mean reward:  0.504 [ 0.000,  1.000], mean action: 4.977 [0.000, 11.000],  loss: 0.022999, mae: 0.920041, mean_q: 1.174561\n",
      "done, took 4.119 seconds\n",
      "Training for 256 steps ...\n"
     ]
    },
    {
     "name": "stdout",
     "output_type": "stream",
     "text": [
      " 256/256: episode: 1, duration: 4.001s, episode steps: 256, steps per second:  64, episode reward: 126.000, mean reward:  0.492 [ 0.000,  1.000], mean action: 4.961 [0.000, 11.000],  loss: 0.033025, mae: 0.895859, mean_q: 1.153208\n",
      "done, took 4.002 seconds\n",
      "Training for 256 steps ...\n",
      " 256/256: episode: 1, duration: 3.956s, episode steps: 256, steps per second:  65, episode reward: 131.000, mean reward:  0.512 [ 0.000,  1.000], mean action: 4.973 [0.000, 11.000],  loss: 0.040924, mae: 0.880809, mean_q: 1.129381\n",
      "done, took 3.958 seconds\n",
      "Training for 256 steps ...\n",
      " 256/256: episode: 1, duration: 4.100s, episode steps: 256, steps per second:  62, episode reward: 135.000, mean reward:  0.527 [ 0.000,  1.000], mean action: 4.992 [0.000, 11.000],  loss: 0.045606, mae: 0.875361, mean_q: 1.117549\n",
      "done, took 4.102 seconds\n",
      "Training for 256 steps ...\n",
      " 256/256: episode: 1, duration: 4.278s, episode steps: 256, steps per second:  60, episode reward: 139.000, mean reward:  0.543 [ 0.000,  1.000], mean action: 4.996 [0.000, 11.000],  loss: 0.050669, mae: 0.864024, mean_q: 1.096216\n",
      "done, took 4.280 seconds\n",
      "Training for 256 steps ...\n",
      " 256/256: episode: 1, duration: 4.117s, episode steps: 256, steps per second:  62, episode reward: 125.000, mean reward:  0.488 [ 0.000,  1.000], mean action: 5.039 [0.000, 11.000],  loss: 0.054539, mae: 0.854348, mean_q: 1.091252\n",
      "done, took 4.119 seconds\n",
      "  g_loss: 0.7026749\n",
      "Evasions: 785\n",
      "Time left = 58.2 minutes\n",
      "Total Time Taken: 2.4 minutes\n",
      "epoch_number: 6 completed\n",
      "======================================================\n",
      "Training for 256 steps ...\n",
      " 256/256: episode: 1, duration: 4.410s, episode steps: 256, steps per second:  58, episode reward: 126.000, mean reward:  0.492 [ 0.000,  1.000], mean action: 5.059 [0.000, 11.000],  loss: 0.063095, mae: 0.835518, mean_q: 1.064953\n",
      "done, took 4.412 seconds\n",
      "Training for 256 steps ...\n",
      " 256/256: episode: 1, duration: 4.221s, episode steps: 256, steps per second:  61, episode reward: 142.000, mean reward:  0.555 [ 0.000,  1.000], mean action: 4.988 [0.000, 11.000],  loss: 0.065163, mae: 0.840946, mean_q: 1.070301\n",
      "done, took 4.223 seconds\n",
      "Training for 256 steps ...\n",
      " 256/256: episode: 1, duration: 4.347s, episode steps: 256, steps per second:  59, episode reward: 136.000, mean reward:  0.531 [ 0.000,  1.000], mean action: 5.012 [0.000, 11.000],  loss: 0.072222, mae: 0.833196, mean_q: 1.055659\n",
      "done, took 4.349 seconds\n",
      "Training for 256 steps ...\n",
      " 256/256: episode: 1, duration: 4.224s, episode steps: 256, steps per second:  61, episode reward: 124.000, mean reward:  0.484 [ 0.000,  1.000], mean action: 5.055 [0.000, 11.000],  loss: 0.072694, mae: 0.818931, mean_q: 1.043537\n",
      "done, took 4.225 seconds\n",
      "Training for 256 steps ...\n",
      " 256/256: episode: 1, duration: 4.202s, episode steps: 256, steps per second:  61, episode reward: 130.000, mean reward:  0.508 [ 0.000,  1.000], mean action: 5.082 [0.000, 11.000],  loss: 0.076547, mae: 0.809547, mean_q: 1.025456\n",
      "done, took 4.204 seconds\n",
      "Training for 256 steps ...\n",
      " 256/256: episode: 1, duration: 4.096s, episode steps: 256, steps per second:  63, episode reward: 129.000, mean reward:  0.504 [ 0.000,  1.000], mean action: 5.047 [0.000, 11.000],  loss: 0.080768, mae: 0.813036, mean_q: 1.032121\n",
      "done, took 4.097 seconds\n",
      "  g_loss: 0.58413255\n",
      "Evasions: 787\n",
      "Time left = 58.8 minutes\n",
      "Total Time Taken: 2.9 minutes\n",
      "epoch_number: 7 completed\n",
      "======================================================\n",
      "Training for 256 steps ...\n",
      " 256/256: episode: 1, duration: 4.390s, episode steps: 256, steps per second:  58, episode reward: 124.000, mean reward:  0.484 [ 0.000,  1.000], mean action: 5.066 [0.000, 11.000],  loss: 0.089553, mae: 0.797930, mean_q: 1.010203\n",
      "done, took 4.391 seconds\n",
      "Training for 256 steps ...\n",
      " 256/256: episode: 1, duration: 4.202s, episode steps: 256, steps per second:  61, episode reward: 139.000, mean reward:  0.543 [ 0.000,  1.000], mean action: 5.035 [0.000, 11.000],  loss: 0.082096, mae: 0.803850, mean_q: 1.017038\n",
      "done, took 4.204 seconds\n",
      "Training for 256 steps ...\n",
      " 256/256: episode: 1, duration: 4.195s, episode steps: 256, steps per second:  61, episode reward: 128.000, mean reward:  0.500 [ 0.000,  1.000], mean action: 5.039 [0.000, 11.000],  loss: 0.086545, mae: 0.793161, mean_q: 1.001327\n",
      "done, took 4.197 seconds\n",
      "Training for 256 steps ...\n",
      " 256/256: episode: 1, duration: 4.188s, episode steps: 256, steps per second:  61, episode reward: 112.000, mean reward:  0.438 [ 0.000,  1.000], mean action: 5.043 [0.000, 11.000],  loss: 0.093316, mae: 0.785093, mean_q: 0.986869\n",
      "done, took 4.189 seconds\n",
      "Training for 256 steps ...\n",
      " 256/256: episode: 1, duration: 4.134s, episode steps: 256, steps per second:  62, episode reward: 132.000, mean reward:  0.516 [ 0.000,  1.000], mean action: 5.047 [0.000, 11.000],  loss: 0.095251, mae: 0.785433, mean_q: 0.990573\n",
      "done, took 4.135 seconds\n",
      "Training for 256 steps ...\n",
      " 256/256: episode: 1, duration: 4.218s, episode steps: 256, steps per second:  61, episode reward: 113.000, mean reward:  0.441 [ 0.000,  1.000], mean action: 5.023 [0.000, 11.000],  loss: 0.097285, mae: 0.791161, mean_q: 0.995068\n",
      "done, took 4.220 seconds\n",
      "  g_loss: 0.45431\n",
      "Evasions: 748\n",
      "Time left = 59.4 minutes\n",
      "Total Time Taken: 3.3 minutes\n",
      "epoch_number: 8 completed\n",
      "======================================================\n",
      "Training for 256 steps ...\n",
      " 256/256: episode: 1, duration: 4.184s, episode steps: 256, steps per second:  61, episode reward: 126.000, mean reward:  0.492 [ 0.000,  1.000], mean action: 5.039 [0.000, 11.000],  loss: 0.100290, mae: 0.778069, mean_q: 0.975435\n",
      "done, took 4.186 seconds\n",
      "Training for 256 steps ...\n",
      " 256/256: episode: 1, duration: 4.128s, episode steps: 256, steps per second:  62, episode reward: 131.000, mean reward:  0.512 [ 0.000,  1.000], mean action: 5.012 [0.000, 11.000],  loss: 0.100263, mae: 0.768461, mean_q: 0.967336\n",
      "done, took 4.130 seconds\n",
      "Training for 256 steps ...\n",
      " 256/256: episode: 1, duration: 4.084s, episode steps: 256, steps per second:  63, episode reward: 116.000, mean reward:  0.453 [ 0.000,  1.000], mean action: 5.016 [0.000, 11.000],  loss: 0.101035, mae: 0.759572, mean_q: 0.956131\n",
      "done, took 4.086 seconds\n",
      "Training for 256 steps ...\n",
      " 256/256: episode: 1, duration: 3.759s, episode steps: 256, steps per second:  68, episode reward: 91.000, mean reward:  0.355 [ 0.000,  1.000], mean action: 5.020 [0.000, 11.000],  loss: 0.108960, mae: 0.761044, mean_q: 0.955877\n",
      "done, took 3.760 seconds\n",
      "Training for 256 steps ...\n",
      " 256/256: episode: 1, duration: 4.021s, episode steps: 256, steps per second:  64, episode reward: 108.000, mean reward:  0.422 [ 0.000,  1.000], mean action: 5.031 [0.000, 11.000],  loss: 0.105558, mae: 0.758393, mean_q: 0.947140\n",
      "done, took 4.023 seconds\n",
      "Training for 256 steps ...\n",
      " 256/256: episode: 1, duration: 3.804s, episode steps: 256, steps per second:  67, episode reward: 46.000, mean reward:  0.180 [ 0.000,  1.000], mean action: 5.031 [0.000, 11.000],  loss: 0.113471, mae: 0.748341, mean_q: 0.935412\n",
      "done, took 3.806 seconds\n",
      "  g_loss: 0.5080406\n",
      "Evasions: 618\n",
      "Time left = 58.8 minutes\n",
      "Total Time Taken: 3.8 minutes\n",
      "epoch_number: 9 completed\n",
      "======================================================\n",
      "Training for 256 steps ...\n",
      " 256/256: episode: 1, duration: 3.926s, episode steps: 256, steps per second:  65, episode reward: 111.000, mean reward:  0.434 [ 0.000,  1.000], mean action: 5.016 [0.000, 11.000],  loss: 0.110542, mae: 0.742380, mean_q: 0.933198\n",
      "done, took 3.928 seconds\n",
      "Training for 256 steps ...\n",
      " 256/256: episode: 1, duration: 3.792s, episode steps: 256, steps per second:  68, episode reward: 40.000, mean reward:  0.156 [ 0.000,  1.000], mean action: 5.004 [0.000, 11.000],  loss: 0.113991, mae: 0.739789, mean_q: 0.922166\n",
      "done, took 3.794 seconds\n",
      "Training for 256 steps ...\n",
      " 256/256: episode: 1, duration: 3.729s, episode steps: 256, steps per second:  69, episode reward: 17.000, mean reward:  0.066 [ 0.000,  1.000], mean action: 5.016 [0.000, 11.000],  loss: 0.117740, mae: 0.724849, mean_q: 0.914075\n",
      "done, took 3.730 seconds\n",
      "Training for 256 steps ...\n",
      " 256/256: episode: 1, duration: 3.781s, episode steps: 256, steps per second:  68, episode reward: 35.000, mean reward:  0.137 [ 0.000,  1.000], mean action: 5.074 [0.000, 11.000],  loss: 0.115705, mae: 0.700374, mean_q: 0.884496\n",
      "done, took 3.782 seconds\n",
      "Training for 256 steps ...\n"
     ]
    },
    {
     "name": "stdout",
     "output_type": "stream",
     "text": [
      " 256/256: episode: 1, duration: 3.712s, episode steps: 256, steps per second:  69, episode reward: 36.000, mean reward:  0.141 [ 0.000,  1.000], mean action: 5.020 [0.000, 11.000],  loss: 0.119941, mae: 0.708754, mean_q: 0.884821\n",
      "done, took 3.714 seconds\n",
      "Training for 256 steps ...\n",
      " 256/256: episode: 1, duration: 3.964s, episode steps: 256, steps per second:  65, episode reward: 28.000, mean reward:  0.109 [ 0.000,  1.000], mean action: 5.043 [0.000, 11.000],  loss: 0.116093, mae: 0.694025, mean_q: 0.872885\n",
      "done, took 3.966 seconds\n",
      "  g_loss: 0.44012237\n",
      "Evasions: 267\n",
      "Time left = 58.2 minutes\n",
      "Total Time Taken: 4.2 minutes\n",
      "epoch_number: 10 completed\n",
      "======================================================\n",
      "Training for 256 steps ...\n",
      " 256/256: episode: 1, duration: 3.779s, episode steps: 256, steps per second:  68, episode reward: 116.000, mean reward:  0.453 [ 0.000,  1.000], mean action: 5.016 [0.000, 11.000],  loss: 0.126996, mae: 0.701836, mean_q: 0.874556\n",
      "done, took 3.781 seconds\n",
      "Training for 256 steps ...\n",
      " 256/256: episode: 1, duration: 3.688s, episode steps: 256, steps per second:  69, episode reward: 22.000, mean reward:  0.086 [ 0.000,  1.000], mean action: 5.039 [0.000, 11.000],  loss: 0.128447, mae: 0.700029, mean_q: 0.877981\n",
      "done, took 3.690 seconds\n",
      "Training for 256 steps ...\n",
      " 256/256: episode: 1, duration: 3.879s, episode steps: 256, steps per second:  66, episode reward: 18.000, mean reward:  0.070 [ 0.000,  1.000], mean action: 5.031 [0.000, 11.000],  loss: 0.126857, mae: 0.677182, mean_q: 0.855956\n",
      "done, took 3.880 seconds\n",
      "Training for 256 steps ...\n",
      " 256/256: episode: 1, duration: 3.655s, episode steps: 256, steps per second:  70, episode reward:  9.000, mean reward:  0.035 [ 0.000,  1.000], mean action: 5.078 [0.000, 11.000],  loss: 0.124288, mae: 0.690834, mean_q: 0.872692\n",
      "done, took 3.657 seconds\n",
      "Training for 256 steps ...\n",
      " 256/256: episode: 1, duration: 3.885s, episode steps: 256, steps per second:  66, episode reward: 16.000, mean reward:  0.062 [ 0.000,  1.000], mean action: 5.031 [0.000, 11.000],  loss: 0.131975, mae: 0.668515, mean_q: 0.838336\n",
      "done, took 3.886 seconds\n",
      "Training for 256 steps ...\n",
      " 256/256: episode: 1, duration: 3.845s, episode steps: 256, steps per second:  67, episode reward:  6.000, mean reward:  0.023 [ 0.000,  1.000], mean action: 5.051 [0.000, 11.000],  loss: 0.129600, mae: 0.649003, mean_q: 0.814845\n",
      "done, took 3.846 seconds\n",
      "  g_loss: 0.4966662\n",
      "Evasions: 187\n",
      "Time left = 57.6 minutes\n",
      "Total Time Taken: 4.6 minutes\n",
      "epoch_number: 11 completed\n",
      "======================================================\n",
      "Training for 256 steps ...\n",
      " 256/256: episode: 1, duration: 3.892s, episode steps: 256, steps per second:  66, episode reward: 13.000, mean reward:  0.051 [ 0.000,  1.000], mean action: 5.074 [0.000, 11.000],  loss: 0.131296, mae: 0.644598, mean_q: 0.813402\n",
      "done, took 3.894 seconds\n",
      "Training for 256 steps ...\n",
      " 256/256: episode: 1, duration: 3.824s, episode steps: 256, steps per second:  67, episode reward: 16.000, mean reward:  0.062 [ 0.000,  1.000], mean action: 5.066 [0.000, 11.000],  loss: 0.131385, mae: 0.648629, mean_q: 0.815887\n",
      "done, took 3.826 seconds\n",
      "Training for 256 steps ...\n",
      " 256/256: episode: 1, duration: 3.797s, episode steps: 256, steps per second:  67, episode reward: 13.000, mean reward:  0.051 [ 0.000,  1.000], mean action: 5.047 [0.000, 11.000],  loss: 0.133150, mae: 0.640219, mean_q: 0.805979\n",
      "done, took 3.799 seconds\n",
      "Training for 256 steps ...\n",
      " 256/256: episode: 1, duration: 3.885s, episode steps: 256, steps per second:  66, episode reward: 11.000, mean reward:  0.043 [ 0.000,  1.000], mean action: 5.055 [0.000, 11.000],  loss: 0.133677, mae: 0.617560, mean_q: 0.777366\n",
      "done, took 3.886 seconds\n",
      "Training for 256 steps ...\n",
      " 256/256: episode: 1, duration: 3.838s, episode steps: 256, steps per second:  67, episode reward: 17.000, mean reward:  0.066 [ 0.000,  1.000], mean action: 5.062 [0.000, 11.000],  loss: 0.138728, mae: 0.613265, mean_q: 0.784659\n",
      "done, took 3.840 seconds\n",
      "Training for 256 steps ...\n",
      " 256/256: episode: 1, duration: 3.748s, episode steps: 256, steps per second:  68, episode reward: 19.000, mean reward:  0.074 [ 0.000,  1.000], mean action: 5.055 [0.000, 11.000],  loss: 0.134311, mae: 0.622472, mean_q: 0.788685\n",
      "done, took 3.750 seconds\n",
      "  g_loss: 0.4078998\n",
      "Evasions: 89\n",
      "Time left = 57.6 minutes\n",
      "Total Time Taken: 5.0 minutes\n",
      "epoch_number: 12 completed\n",
      "======================================================\n",
      "Training for 256 steps ...\n",
      " 256/256: episode: 1, duration: 3.728s, episode steps: 256, steps per second:  69, episode reward: 12.000, mean reward:  0.047 [ 0.000,  1.000], mean action: 5.055 [0.000, 11.000],  loss: 0.137436, mae: 0.618834, mean_q: 0.780607\n",
      "done, took 3.729 seconds\n",
      "Training for 256 steps ...\n",
      " 256/256: episode: 1, duration: 3.792s, episode steps: 256, steps per second:  68, episode reward: 10.000, mean reward:  0.039 [ 0.000,  1.000], mean action: 5.059 [0.000, 11.000],  loss: 0.138912, mae: 0.598738, mean_q: 0.754563\n",
      "done, took 3.794 seconds\n",
      "Training for 256 steps ...\n",
      " 256/256: episode: 1, duration: 3.744s, episode steps: 256, steps per second:  68, episode reward: 17.000, mean reward:  0.066 [ 0.000,  1.000], mean action: 5.023 [0.000, 11.000],  loss: 0.138092, mae: 0.598819, mean_q: 0.753520\n",
      "done, took 3.745 seconds\n",
      "Training for 256 steps ...\n",
      " 256/256: episode: 1, duration: 3.832s, episode steps: 256, steps per second:  67, episode reward: 14.000, mean reward:  0.055 [ 0.000,  1.000], mean action: 5.043 [0.000, 11.000],  loss: 0.139650, mae: 0.591251, mean_q: 0.745950\n",
      "done, took 3.834 seconds\n",
      "Training for 256 steps ...\n",
      " 256/256: episode: 1, duration: 3.812s, episode steps: 256, steps per second:  67, episode reward:  8.000, mean reward:  0.031 [ 0.000,  1.000], mean action: 5.027 [0.000, 11.000],  loss: 0.137819, mae: 0.598063, mean_q: 0.749763\n",
      "done, took 3.814 seconds\n",
      "Training for 256 steps ...\n",
      " 256/256: episode: 1, duration: 3.774s, episode steps: 256, steps per second:  68, episode reward: 14.000, mean reward:  0.055 [ 0.000,  1.000], mean action: 5.039 [0.000, 11.000],  loss: 0.138663, mae: 0.588590, mean_q: 0.739406\n",
      "done, took 3.777 seconds\n",
      "  g_loss: 0.43558025\n",
      "Evasions: 75\n",
      "Time left = 57.0 minutes\n",
      "Total Time Taken: 5.4 minutes\n",
      "epoch_number: 13 completed\n",
      "======================================================\n",
      "Training for 256 steps ...\n",
      " 256/256: episode: 1, duration: 3.804s, episode steps: 256, steps per second:  67, episode reward: 59.000, mean reward:  0.230 [ 0.000,  1.000], mean action: 5.059 [0.000, 11.000],  loss: 0.140623, mae: 0.581300, mean_q: 0.735916\n",
      "done, took 3.807 seconds\n",
      "Training for 256 steps ...\n",
      " 256/256: episode: 1, duration: 3.859s, episode steps: 256, steps per second:  66, episode reward: 18.000, mean reward:  0.070 [ 0.000,  1.000], mean action: 5.047 [0.000, 11.000],  loss: 0.139209, mae: 0.569469, mean_q: 0.725044\n",
      "done, took 3.861 seconds\n",
      "Training for 256 steps ...\n",
      " 256/256: episode: 1, duration: 4.088s, episode steps: 256, steps per second:  63, episode reward: 10.000, mean reward:  0.039 [ 0.000,  1.000], mean action: 5.070 [0.000, 11.000],  loss: 0.140532, mae: 0.585388, mean_q: 0.728172\n",
      "done, took 4.090 seconds\n",
      "Training for 256 steps ...\n",
      " 256/256: episode: 1, duration: 4.058s, episode steps: 256, steps per second:  63, episode reward: 17.000, mean reward:  0.066 [ 0.000,  1.000], mean action: 5.043 [0.000, 11.000],  loss: 0.138206, mae: 0.564028, mean_q: 0.708487\n",
      "done, took 4.059 seconds\n",
      "Training for 256 steps ...\n",
      " 256/256: episode: 1, duration: 4.065s, episode steps: 256, steps per second:  63, episode reward:  2.000, mean reward:  0.008 [ 0.000,  1.000], mean action: 5.059 [0.000, 11.000],  loss: 0.137686, mae: 0.567218, mean_q: 0.716811\n",
      "done, took 4.066 seconds\n",
      "Training for 256 steps ...\n",
      " 256/256: episode: 1, duration: 3.966s, episode steps: 256, steps per second:  65, episode reward: 11.000, mean reward:  0.043 [ 0.000,  1.000], mean action: 5.043 [0.000, 11.000],  loss: 0.137549, mae: 0.554952, mean_q: 0.701222\n",
      "done, took 3.967 seconds\n",
      "  g_loss: 0.4069978\n",
      "Evasions: 117\n",
      "Time left = 56.4 minutes\n",
      "Total Time Taken: 5.8 minutes\n",
      "epoch_number: 14 completed\n",
      "======================================================\n",
      "Training for 256 steps ...\n",
      " 256/256: episode: 1, duration: 3.958s, episode steps: 256, steps per second:  65, episode reward: 12.000, mean reward:  0.047 [ 0.000,  1.000], mean action: 5.043 [0.000, 11.000],  loss: 0.141479, mae: 0.572341, mean_q: 0.715555\n",
      "done, took 3.960 seconds\n",
      "Training for 256 steps ...\n"
     ]
    },
    {
     "name": "stdout",
     "output_type": "stream",
     "text": [
      " 256/256: episode: 1, duration: 3.823s, episode steps: 256, steps per second:  67, episode reward: 21.000, mean reward:  0.082 [ 0.000,  1.000], mean action: 5.047 [0.000, 11.000],  loss: 0.136597, mae: 0.548596, mean_q: 0.699333\n",
      "done, took 3.825 seconds\n",
      "Training for 256 steps ...\n",
      " 256/256: episode: 1, duration: 3.779s, episode steps: 256, steps per second:  68, episode reward:  8.000, mean reward:  0.031 [ 0.000,  1.000], mean action: 5.078 [0.000, 11.000],  loss: 0.134072, mae: 0.532138, mean_q: 0.687950\n",
      "done, took 3.781 seconds\n",
      "Training for 256 steps ...\n",
      " 256/256: episode: 1, duration: 3.838s, episode steps: 256, steps per second:  67, episode reward:  7.000, mean reward:  0.027 [ 0.000,  1.000], mean action: 5.066 [0.000, 11.000],  loss: 0.133037, mae: 0.519580, mean_q: 0.668975\n",
      "done, took 3.840 seconds\n",
      "Training for 256 steps ...\n",
      " 256/256: episode: 1, duration: 3.798s, episode steps: 256, steps per second:  67, episode reward:  7.000, mean reward:  0.027 [ 0.000,  1.000], mean action: 5.027 [0.000, 11.000],  loss: 0.134015, mae: 0.523386, mean_q: 0.664238\n",
      "done, took 3.800 seconds\n",
      "Training for 256 steps ...\n",
      " 256/256: episode: 1, duration: 3.783s, episode steps: 256, steps per second:  68, episode reward:  6.000, mean reward:  0.023 [ 0.000,  1.000], mean action: 5.051 [0.000, 11.000],  loss: 0.140274, mae: 0.526912, mean_q: 0.669052\n",
      "done, took 3.785 seconds\n",
      "  g_loss: 0.3853658\n",
      "Evasions: 61\n",
      "Time left = 56.4 minutes\n",
      "Total Time Taken: 6.2 minutes\n",
      "epoch_number: 15 completed\n",
      "======================================================\n",
      "Training for 256 steps ...\n",
      " 256/256: episode: 1, duration: 3.864s, episode steps: 256, steps per second:  66, episode reward: 11.000, mean reward:  0.043 [ 0.000,  1.000], mean action: 5.020 [0.000, 11.000],  loss: 0.134169, mae: 0.524396, mean_q: 0.666037\n",
      "done, took 3.866 seconds\n",
      "Training for 256 steps ...\n",
      " 256/256: episode: 1, duration: 4.137s, episode steps: 256, steps per second:  62, episode reward:  7.000, mean reward:  0.027 [ 0.000,  1.000], mean action: 5.047 [0.000, 11.000],  loss: 0.135572, mae: 0.523075, mean_q: 0.664420\n",
      "done, took 4.139 seconds\n",
      "Training for 256 steps ...\n",
      " 256/256: episode: 1, duration: 3.897s, episode steps: 256, steps per second:  66, episode reward: 12.000, mean reward:  0.047 [ 0.000,  1.000], mean action: 5.035 [0.000, 11.000],  loss: 0.135702, mae: 0.520524, mean_q: 0.663811\n",
      "done, took 3.899 seconds\n",
      "Training for 256 steps ...\n",
      " 256/256: episode: 1, duration: 3.880s, episode steps: 256, steps per second:  66, episode reward:  6.000, mean reward:  0.023 [ 0.000,  1.000], mean action: 5.016 [0.000, 11.000],  loss: 0.133162, mae: 0.506081, mean_q: 0.651863\n",
      "done, took 3.882 seconds\n",
      "Training for 256 steps ...\n",
      " 256/256: episode: 1, duration: 3.895s, episode steps: 256, steps per second:  66, episode reward:  2.000, mean reward:  0.008 [ 0.000,  1.000], mean action: 5.051 [0.000, 11.000],  loss: 0.134621, mae: 0.497007, mean_q: 0.632354\n",
      "done, took 3.897 seconds\n",
      "Training for 256 steps ...\n",
      " 256/256: episode: 1, duration: 3.914s, episode steps: 256, steps per second:  65, episode reward:  1.000, mean reward:  0.004 [ 0.000,  1.000], mean action: 5.039 [0.000, 11.000],  loss: 0.134249, mae: 0.508460, mean_q: 0.639800\n",
      "done, took 3.916 seconds\n",
      "  g_loss: 0.3570968\n",
      "Evasions: 39\n",
      "Time left = 55.8 minutes\n",
      "Total Time Taken: 6.7 minutes\n",
      "epoch_number: 16 completed\n",
      "======================================================\n",
      "Training for 256 steps ...\n",
      " 256/256: episode: 1, duration: 3.834s, episode steps: 256, steps per second:  67, episode reward: 10.000, mean reward:  0.039 [ 0.000,  1.000], mean action: 5.051 [0.000, 11.000],  loss: 0.130220, mae: 0.490284, mean_q: 0.624162\n",
      "done, took 3.836 seconds\n",
      "Training for 256 steps ...\n",
      " 256/256: episode: 1, duration: 3.860s, episode steps: 256, steps per second:  66, episode reward:  4.000, mean reward:  0.016 [ 0.000,  1.000], mean action: 5.043 [0.000, 11.000],  loss: 0.132224, mae: 0.480842, mean_q: 0.619589\n",
      "done, took 3.862 seconds\n",
      "Training for 256 steps ...\n",
      " 256/256: episode: 1, duration: 3.810s, episode steps: 256, steps per second:  67, episode reward:  8.000, mean reward:  0.031 [ 0.000,  1.000], mean action: 5.062 [0.000, 11.000],  loss: 0.130143, mae: 0.492301, mean_q: 0.627619\n",
      "done, took 3.812 seconds\n",
      "Training for 256 steps ...\n",
      " 256/256: episode: 1, duration: 3.795s, episode steps: 256, steps per second:  67, episode reward:  3.000, mean reward:  0.012 [ 0.000,  1.000], mean action: 5.047 [0.000, 11.000],  loss: 0.133590, mae: 0.485196, mean_q: 0.622779\n",
      "done, took 3.797 seconds\n",
      "Training for 256 steps ...\n",
      " 256/256: episode: 1, duration: 3.936s, episode steps: 256, steps per second:  65, episode reward:  2.000, mean reward:  0.008 [ 0.000,  1.000], mean action: 4.996 [0.000, 11.000],  loss: 0.129039, mae: 0.485219, mean_q: 0.613794\n",
      "done, took 3.938 seconds\n",
      "Training for 256 steps ...\n",
      " 256/256: episode: 1, duration: 3.661s, episode steps: 256, steps per second:  70, episode reward:  8.000, mean reward:  0.031 [ 0.000,  1.000], mean action: 5.012 [0.000, 11.000],  loss: 0.128877, mae: 0.485604, mean_q: 0.623501\n",
      "done, took 3.662 seconds\n",
      "  g_loss: 0.36358136\n",
      "Evasions: 35\n",
      "Time left = 55.2 minutes\n",
      "Total Time Taken: 7.1 minutes\n",
      "epoch_number: 17 completed\n",
      "======================================================\n",
      "Training for 256 steps ...\n",
      " 256/256: episode: 1, duration: 3.805s, episode steps: 256, steps per second:  67, episode reward:  9.000, mean reward:  0.035 [ 0.000,  1.000], mean action: 5.023 [0.000, 11.000],  loss: 0.128715, mae: 0.475634, mean_q: 0.601574\n",
      "done, took 3.807 seconds\n",
      "Training for 256 steps ...\n",
      " 256/256: episode: 1, duration: 3.814s, episode steps: 256, steps per second:  67, episode reward:  4.000, mean reward:  0.016 [ 0.000,  1.000], mean action: 4.988 [0.000, 11.000],  loss: 0.128744, mae: 0.482506, mean_q: 0.608064\n",
      "done, took 3.816 seconds\n",
      "Training for 256 steps ...\n",
      " 256/256: episode: 1, duration: 3.837s, episode steps: 256, steps per second:  67, episode reward:  2.000, mean reward:  0.008 [ 0.000,  1.000], mean action: 5.008 [0.000, 11.000],  loss: 0.128511, mae: 0.473004, mean_q: 0.602196\n",
      "done, took 3.838 seconds\n",
      "Training for 256 steps ...\n",
      " 256/256: episode: 1, duration: 3.971s, episode steps: 256, steps per second:  64, episode reward:  0.000, mean reward:  0.000 [ 0.000,  0.000], mean action: 5.051 [0.000, 11.000],  loss: 0.128050, mae: 0.475594, mean_q: 0.605395\n",
      "done, took 3.972 seconds\n",
      "Training for 256 steps ...\n",
      " 256/256: episode: 1, duration: 3.666s, episode steps: 256, steps per second:  70, episode reward:  1.000, mean reward:  0.004 [ 0.000,  1.000], mean action: 4.977 [0.000, 11.000],  loss: 0.125024, mae: 0.461972, mean_q: 0.587237\n",
      "done, took 3.667 seconds\n",
      "Training for 256 steps ...\n",
      " 256/256: episode: 1, duration: 3.808s, episode steps: 256, steps per second:  67, episode reward:  1.000, mean reward:  0.004 [ 0.000,  1.000], mean action: 4.996 [0.000, 11.000],  loss: 0.130321, mae: 0.466710, mean_q: 0.587748\n",
      "done, took 3.810 seconds\n",
      "  g_loss: 0.29354376\n",
      "Evasions: 17\n",
      "Time left = 54.6 minutes\n",
      "Total Time Taken: 7.5 minutes\n",
      "epoch_number: 18 completed\n",
      "======================================================\n",
      "Training for 256 steps ...\n",
      " 256/256: episode: 1, duration: 3.897s, episode steps: 256, steps per second:  66, episode reward:  2.000, mean reward:  0.008 [ 0.000,  1.000], mean action: 4.992 [0.000, 11.000],  loss: 0.124565, mae: 0.467353, mean_q: 0.594768\n",
      "done, took 3.899 seconds\n",
      "Training for 256 steps ...\n",
      " 256/256: episode: 1, duration: 3.855s, episode steps: 256, steps per second:  66, episode reward:  3.000, mean reward:  0.012 [ 0.000,  1.000], mean action: 4.992 [0.000, 11.000],  loss: 0.126855, mae: 0.456919, mean_q: 0.588308\n",
      "done, took 3.856 seconds\n",
      "Training for 256 steps ...\n",
      " 256/256: episode: 1, duration: 3.889s, episode steps: 256, steps per second:  66, episode reward:  2.000, mean reward:  0.008 [ 0.000,  1.000], mean action: 5.020 [0.000, 11.000],  loss: 0.128759, mae: 0.440675, mean_q: 0.570891\n",
      "done, took 3.892 seconds\n",
      "Training for 256 steps ...\n",
      " 256/256: episode: 1, duration: 3.814s, episode steps: 256, steps per second:  67, episode reward:  1.000, mean reward:  0.004 [ 0.000,  1.000], mean action: 5.039 [0.000, 11.000],  loss: 0.125299, mae: 0.460614, mean_q: 0.588753\n",
      "done, took 3.816 seconds\n",
      "Training for 256 steps ...\n"
     ]
    },
    {
     "name": "stdout",
     "output_type": "stream",
     "text": [
      " 256/256: episode: 1, duration: 3.721s, episode steps: 256, steps per second:  69, episode reward:  3.000, mean reward:  0.012 [ 0.000,  1.000], mean action: 5.031 [0.000, 11.000],  loss: 0.125247, mae: 0.452138, mean_q: 0.576060\n",
      "done, took 3.723 seconds\n",
      "Training for 256 steps ...\n",
      " 256/256: episode: 1, duration: 3.914s, episode steps: 256, steps per second:  65, episode reward:  0.000, mean reward:  0.000 [ 0.000,  0.000], mean action: 5.043 [0.000, 11.000],  loss: 0.122427, mae: 0.455138, mean_q: 0.588338\n",
      "done, took 3.916 seconds\n",
      "  g_loss: 0.31557196\n",
      "Evasions: 11\n",
      "Time left = 54.6 minutes\n",
      "Total Time Taken: 7.9 minutes\n",
      "epoch_number: 19 completed\n",
      "======================================================\n",
      "Training for 256 steps ...\n",
      " 256/256: episode: 1, duration: 3.899s, episode steps: 256, steps per second:  66, episode reward:  2.000, mean reward:  0.008 [ 0.000,  1.000], mean action: 5.047 [0.000, 11.000],  loss: 0.123748, mae: 0.445601, mean_q: 0.561150\n",
      "done, took 3.901 seconds\n",
      "Training for 256 steps ...\n",
      " 256/256: episode: 1, duration: 3.788s, episode steps: 256, steps per second:  68, episode reward:  1.000, mean reward:  0.004 [ 0.000,  1.000], mean action: 5.051 [0.000, 11.000],  loss: 0.121687, mae: 0.443638, mean_q: 0.565261\n",
      "done, took 3.789 seconds\n",
      "Training for 256 steps ...\n",
      " 256/256: episode: 1, duration: 3.807s, episode steps: 256, steps per second:  67, episode reward:  2.000, mean reward:  0.008 [ 0.000,  1.000], mean action: 5.000 [0.000, 11.000],  loss: 0.118992, mae: 0.437307, mean_q: 0.558210\n",
      "done, took 3.809 seconds\n",
      "Training for 256 steps ...\n",
      " 256/256: episode: 1, duration: 3.964s, episode steps: 256, steps per second:  65, episode reward:  2.000, mean reward:  0.008 [ 0.000,  1.000], mean action: 5.031 [0.000, 11.000],  loss: 0.119295, mae: 0.435952, mean_q: 0.566813\n",
      "done, took 3.965 seconds\n",
      "Training for 256 steps ...\n",
      " 256/256: episode: 1, duration: 3.709s, episode steps: 256, steps per second:  69, episode reward:  0.000, mean reward:  0.000 [ 0.000,  0.000], mean action: 5.023 [0.000, 11.000],  loss: 0.123062, mae: 0.431296, mean_q: 0.554341\n",
      "done, took 3.711 seconds\n",
      "Training for 256 steps ...\n",
      " 256/256: episode: 1, duration: 3.710s, episode steps: 256, steps per second:  69, episode reward:  2.000, mean reward:  0.008 [ 0.000,  1.000], mean action: 5.051 [0.000, 11.000],  loss: 0.122065, mae: 0.426055, mean_q: 0.546478\n",
      "done, took 3.712 seconds\n",
      "  g_loss: 0.3041473\n",
      "Evasions: 9\n",
      "Time left = 54.0 minutes\n",
      "Total Time Taken: 8.3 minutes\n",
      "epoch_number: 20 completed\n",
      "======================================================\n",
      "Training for 256 steps ...\n",
      " 256/256: episode: 1, duration: 3.836s, episode steps: 256, steps per second:  67, episode reward:  4.000, mean reward:  0.016 [ 0.000,  1.000], mean action: 5.043 [0.000, 11.000],  loss: 0.118260, mae: 0.434037, mean_q: 0.558101\n",
      "done, took 3.838 seconds\n",
      "Training for 256 steps ...\n",
      " 256/256: episode: 1, duration: 3.758s, episode steps: 256, steps per second:  68, episode reward:  0.000, mean reward:  0.000 [ 0.000,  0.000], mean action: 5.035 [0.000, 11.000],  loss: 0.115571, mae: 0.433647, mean_q: 0.556310\n",
      "done, took 3.760 seconds\n",
      "Training for 256 steps ...\n",
      " 256/256: episode: 1, duration: 3.792s, episode steps: 256, steps per second:  68, episode reward:  2.000, mean reward:  0.008 [ 0.000,  1.000], mean action: 5.066 [0.000, 11.000],  loss: 0.120130, mae: 0.430300, mean_q: 0.548605\n",
      "done, took 3.794 seconds\n",
      "Training for 256 steps ...\n",
      " 256/256: episode: 1, duration: 3.818s, episode steps: 256, steps per second:  67, episode reward:  0.000, mean reward:  0.000 [ 0.000,  0.000], mean action: 5.039 [0.000, 11.000],  loss: 0.117709, mae: 0.439765, mean_q: 0.553628\n",
      "done, took 3.820 seconds\n",
      "Training for 256 steps ...\n",
      " 256/256: episode: 1, duration: 3.738s, episode steps: 256, steps per second:  68, episode reward:  0.000, mean reward:  0.000 [ 0.000,  0.000], mean action: 5.023 [0.000, 11.000],  loss: 0.120137, mae: 0.447013, mean_q: 0.563549\n",
      "done, took 3.739 seconds\n",
      "Training for 256 steps ...\n",
      " 256/256: episode: 1, duration: 3.883s, episode steps: 256, steps per second:  66, episode reward:  0.000, mean reward:  0.000 [ 0.000,  0.000], mean action: 5.055 [0.000, 11.000],  loss: 0.118383, mae: 0.430672, mean_q: 0.549014\n",
      "done, took 3.884 seconds\n",
      "  g_loss: 0.3013928\n",
      "Evasions: 6\n",
      "Time left = 53.4 minutes\n",
      "Total Time Taken: 8.7 minutes\n",
      "epoch_number: 21 completed\n",
      "======================================================\n",
      "Training for 256 steps ...\n",
      " 256/256: episode: 1, duration: 3.929s, episode steps: 256, steps per second:  65, episode reward:  2.000, mean reward:  0.008 [ 0.000,  1.000], mean action: 5.031 [0.000, 11.000],  loss: 0.116036, mae: 0.427055, mean_q: 0.545648\n",
      "done, took 3.930 seconds\n",
      "Training for 256 steps ...\n",
      " 256/256: episode: 1, duration: 3.970s, episode steps: 256, steps per second:  64, episode reward:  1.000, mean reward:  0.004 [ 0.000,  1.000], mean action: 5.039 [0.000, 11.000],  loss: 0.118556, mae: 0.396582, mean_q: 0.516164\n",
      "done, took 3.972 seconds\n",
      "Training for 256 steps ...\n",
      " 256/256: episode: 1, duration: 3.744s, episode steps: 256, steps per second:  68, episode reward:  0.000, mean reward:  0.000 [ 0.000,  0.000], mean action: 5.023 [0.000, 11.000],  loss: 0.113854, mae: 0.422320, mean_q: 0.537972\n",
      "done, took 3.745 seconds\n",
      "Training for 256 steps ...\n",
      " 256/256: episode: 1, duration: 3.956s, episode steps: 256, steps per second:  65, episode reward:  0.000, mean reward:  0.000 [ 0.000,  0.000], mean action: 5.027 [0.000, 11.000],  loss: 0.116345, mae: 0.409347, mean_q: 0.517951\n",
      "done, took 3.958 seconds\n",
      "Training for 256 steps ...\n",
      " 256/256: episode: 1, duration: 3.986s, episode steps: 256, steps per second:  64, episode reward:  1.000, mean reward:  0.004 [ 0.000,  1.000], mean action: 5.055 [0.000, 11.000],  loss: 0.115013, mae: 0.420859, mean_q: 0.530588\n",
      "done, took 3.987 seconds\n",
      "Training for 256 steps ...\n",
      " 256/256: episode: 1, duration: 3.865s, episode steps: 256, steps per second:  66, episode reward:  0.000, mean reward:  0.000 [ 0.000,  0.000], mean action: 5.031 [0.000, 11.000],  loss: 0.112624, mae: 0.424439, mean_q: 0.543145\n",
      "done, took 3.867 seconds\n",
      "  g_loss: 0.28577575\n",
      "Evasions: 4\n",
      "Time left = 52.8 minutes\n",
      "Total Time Taken: 9.1 minutes\n",
      "epoch_number: 22 completed\n",
      "======================================================\n",
      "Training for 256 steps ...\n"
     ]
    }
   ],
   "source": [
    "import header\n",
    "import importlib\n",
    "importlib.reload(header) # For reloading after making changes\n",
    "from header import *\n",
    "\n",
    "\n",
    "gpu_device = '/device:GPU:1'\n",
    "physical_devices = tf.config.list_physical_devices('GPU') \n",
    "for gpu_instance in physical_devices: \n",
    "    tf.config.experimental.set_memory_growth(gpu_instance, True)\n",
    "\n",
    "#----------------------------------\n",
    "# Set neurons and batch size\n",
    "#----------------------------------\n",
    "base_n_count = 256\n",
    "batch_size =  256\n",
    "#----------------------------------\n",
    "\n",
    "\n",
    "result = train_data\n",
    "\n",
    "remaining = train_data.shape[0] % batch_size\n",
    "\n",
    "if remaining > 0:\n",
    "    if remaining < train_data.shape[0]:\n",
    "        additional = batch_size - remaining\n",
    "        _additional = train_data.loc[train_data.shape[0]-additional:train_data.shape[0],: ]  \n",
    "        \n",
    "        frames = [train_data, _additional]\n",
    "        result = pd.concat(frames).reset_index(drop=True)\n",
    "\n",
    "print('Result: ' + str(result.shape))\n",
    "\n",
    "# batch_size = 1\n",
    "# ---------------------------------\n",
    "nb_steps = required_epochs * result.shape[0] // batch_size\n",
    "\n",
    "log_interval = result.shape[0] // batch_size # We are setting this as an epoch. This depends on data size.\n",
    "\n",
    "print(\"log_interval : \" + str(log_interval))\n",
    "\n",
    "# nb_steps = TRAINING_ITERATIONS  # 50000 # Add one for logging of the last interval\n",
    "print(\"Total Batch Iterations: \" + str(nb_steps))\n",
    "rand_noise_dim = 100 \n",
    "\n",
    "\n",
    "k_d = 1  # number of critic network updates per adversarial training step\n",
    "k_g = 1  # number of generator network updates per adversarial training step\n",
    "\n",
    "critic_pre_train_steps = 100# 100  # number of steps to pre-train the critic before starting adversarial training\n",
    "\n",
    "generator_model_path, discriminator_model_path, loss_pickle_path = None, None, None\n",
    "\n",
    "show = True \n",
    "train = result#.copy().reset_index(drop=True) # botnet only with labels from classification\n",
    "\n",
    "\n",
    "\n",
    "label_cols = [ i for i in train.columns if 'Label' in i ]\n",
    "\n",
    "data_cols = [ i for i in train.columns if i not in label_cols ]\n",
    "\n",
    "print(data_cols)\n",
    "\n",
    "train_no_label = train[ data_cols ]\n",
    "\n",
    "train_no_label = round(train_no_label, 4)\n",
    "\n",
    "# if SAVE_ONLY_BOT_DATA:\n",
    "#     train_no_label.to_csv(str(DATA_SET_PATH) + 'ONLY_BOTNET_DATA_(Preprocessed).csv')\n",
    "#     print('File: ' + 'ONLY_BOTNET_DATA_(Preprocessed).csv saved to directory')   \n",
    "\n",
    "\n",
    "\n",
    "test_size = train.shape[0] \n",
    "learning_rate = 5e-4\n",
    "\n",
    "\n",
    "TODAY = DATA_SET + '_' + str(datetime.datetime.now()) \n",
    "\n",
    "print(TODAY)\n",
    "\n",
    "\n",
    "arguments = [rand_noise_dim, nb_steps, batch_size, \n",
    "            k_d, k_g, critic_pre_train_steps, log_interval, learning_rate, base_n_count,\n",
    "            CACHE_PATH, FIGS_PATH, show, test_size, gpu_device, EVALUATION_PARAMETER, TODAY, DATA_SET]\n",
    "\n",
    "best_losses = train_RELEVAGAN_CC(arguments, train, Train, data_cols)\n",
    "        "
   ]
  },
  {
   "cell_type": "code",
   "execution_count": null,
   "metadata": {},
   "outputs": [],
   "source": []
  }
 ],
 "metadata": {
  "accelerator": "GPU",
  "celltoolbar": "Slideshow",
  "colab": {
   "collapsed_sections": [],
   "name": "RELEVAGAN.ipynb",
   "provenance": []
  },
  "interpreter": {
   "hash": "0754585e5bea998e5d67e8f88be1e2a4051f453a7d5aedf516d053743049d686"
  },
  "kernelspec": {
   "display_name": "Python 3 (ipykernel)",
   "language": "python",
   "name": "python3"
  },
  "language_info": {
   "codemirror_mode": {
    "name": "ipython",
    "version": 3
   },
   "file_extension": ".py",
   "mimetype": "text/x-python",
   "name": "python",
   "nbconvert_exporter": "python",
   "pygments_lexer": "ipython3",
   "version": "3.9.12"
  }
 },
 "nbformat": 4,
 "nbformat_minor": 1
}
